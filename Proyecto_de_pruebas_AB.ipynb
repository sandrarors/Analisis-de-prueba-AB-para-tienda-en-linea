{
 "cells": [
  {
   "cell_type": "markdown",
   "metadata": {},
   "source": [
    "# Proyecto de pruebas A/B"
   ]
  },
  {
   "cell_type": "markdown",
   "metadata": {},
   "source": [
    "# Descripción del ejercicio\n",
    "\n",
    "Has recibido una tarea analítica de una tienda en línea internacional. Tus predecesores no consiguieron completarla: lanzaron una prueba A/B y luego abandonaron. Solo dejaron las especificaciones técnicas y los resultados de las pruebas."
   ]
  },
  {
   "cell_type": "markdown",
   "metadata": {},
   "source": [
    "## Descripción técnica\n",
    "\n",
    "- Nombre de la prueba: `recommender_system_test`\n",
    "- Grupos: А (control), B (nuevo embudo de pago)\n",
    "- Launch date: 2020-12-07\n",
    "- Fecha en la que dejaron de aceptar nuevos usuarios: 2020-12-21\n",
    "- Fecha de finalización: 2021-01-01\n",
    "- Audiencia: 15% de los nuevos usuarios de la región de la UE\n",
    "- Propósito de la prueba: probar cambios relacionados con la introducción de un sistema de recomendaciones mejorado\n",
    "- Resultado esperado: dentro de los 14 días posteriores a la inscripción, los usuarios mostrarán una mejor conversión en vistas de la página del producto (el evento `product_page`), instancias de agregar artículos al carrito de compras (`product_cart`) y compras (`purchase`). En cada etapa del embudo `product_page → product_cart → purchase`, habrá al menos un 10% de aumento.\n",
    "- Número previsto de participantes de la prueba: 6 000"
   ]
  },
  {
   "cell_type": "markdown",
   "metadata": {},
   "source": [
    "Contamos con 4 datasets donde se incluyen los datos de la prueba, comprueba si se ha realizado correctamente y analiza los resultados.\n",
    "\n",
    "- `ab_project_marketing_events_us.csv`: el calendario de eventos de marketing para 2020\n",
    "- `final_ab_new_users_upd_us.csv`: todos los usuarios que se registraron en la tienda en línea desde el 7 hasta el 21 de diciembre de 2020\n",
    "- `final_ab_events_upd_us.csv`: todos los eventos de los nuevos usuarios en el período comprendido entre el 7 de diciembre de 2020 y el 1 de enero de 2021\n",
    "- `final_ab_participants_upd_us.csv`: tabla con los datos de los participantes de la prueba"
   ]
  },
  {
   "cell_type": "markdown",
   "metadata": {},
   "source": [
    "Estructura `ab_project_marketing_events_us.csv`:\n",
    "\n",
    "- `name`: el nombre del evento de marketing\n",
    "- `regions`: regiones donde se llevará a cabo la campaña publicitaria\n",
    "- `start_dt`: fecha de inicio de la campaña\n",
    "- `finish_dt`: fecha de finalización de la campaña\n",
    "\n",
    "Estructura `final_ab_new_users_upd_us.csv`:\n",
    "\n",
    "- `user_id`\n",
    "- `first_date`: fecha de inscripción\n",
    "- `region`\n",
    "- `device`: dispositivo utilizado para la inscripción\n",
    "\n",
    "Estructura `final_ab_events_upd_us.csv`:\n",
    "\n",
    "- `user_id`\n",
    "- `event_dt`: fecha y hora del evento\n",
    "- `event_name`: nombre del tipo de evento\n",
    "- `details`: datos adicionales sobre el evento (por ejemplo, el pedido total en USD para los eventos `purchase`)\n",
    "\n",
    "Estructura `final_ab_participants_upd_us.csv`:\n",
    "\n",
    "- `user_id`\n",
    "- `ab_test`: nombre de la prueba\n",
    "- `group`: el grupo de prueba al que pertenecía el usuario"
   ]
  },
  {
   "cell_type": "markdown",
   "metadata": {},
   "source": [
    "## Objetivos del estudio"
   ]
  },
  {
   "cell_type": "markdown",
   "metadata": {},
   "source": [
    "- Verificar si la introducción del nuevo sistema de recomendaciones mejoró la conversión en las etapas del embudo:\n",
    "    - Vistas de la página del producto (product_page)\n",
    "    - Agregar artículos al carrito (product_card)\n",
    "    - Compras realizadas (purchase)\n",
    "- Comprobar si cada etapa muestra al menos un **10% de aumento en la conversión dentro de los 14 días posteriores al registro**."
   ]
  },
  {
   "cell_type": "markdown",
   "metadata": {},
   "source": [
    "## Exploración de los datos"
   ]
  },
  {
   "cell_type": "markdown",
   "metadata": {},
   "source": [
    "### Inicialización"
   ]
  },
  {
   "cell_type": "code",
   "execution_count": 1,
   "metadata": {},
   "outputs": [],
   "source": [
    "# Importamos las bibliotecas necesarias\n",
    "import pandas as pd\n",
    "import numpy as np\n",
    "import matplotlib.pyplot as plt\n",
    "import seaborn as sns\n",
    "from statsmodels.stats.proportion import proportions_ztest\n",
    "from scipy.stats import norm\n"
   ]
  },
  {
   "cell_type": "code",
   "execution_count": 2,
   "metadata": {},
   "outputs": [],
   "source": [
    "# Cargamos los datasets\n",
    "ab_project_marketing_events = pd.read_csv('ab_project_marketing_events_us.csv')\n",
    "final_ab_new_users = pd.read_csv('final_ab_new_users_upd_us.csv')\n",
    "final_ab_events = pd.read_csv('final_ab_events_upd_us.csv')\n",
    "final_ab_participants = pd.read_csv('final_ab_participants_upd_us.csv')"
   ]
  },
  {
   "cell_type": "code",
   "execution_count": 3,
   "metadata": {},
   "outputs": [
    {
     "name": "stdout",
     "output_type": "stream",
     "text": [
      "\n",
      "--- Datos de Marketing ---\n",
      "Filas y columnas: (14, 4)\n",
      "Primeras filas:\n",
      "                           name                   regions    start_dt  \\\n",
      "0      Christmas&New Year Promo             EU, N.America  2020-12-25   \n",
      "1  St. Valentine's Day Giveaway  EU, CIS, APAC, N.America  2020-02-14   \n",
      "2        St. Patric's Day Promo             EU, N.America  2020-03-17   \n",
      "3                  Easter Promo  EU, CIS, APAC, N.America  2020-04-12   \n",
      "4             4th of July Promo                 N.America  2020-07-04   \n",
      "\n",
      "    finish_dt  \n",
      "0  2021-01-03  \n",
      "1  2020-02-16  \n",
      "2  2020-03-19  \n",
      "3  2020-04-19  \n",
      "4  2020-07-11  \n",
      "Tipos de datos:\n",
      "name         object\n",
      "regions      object\n",
      "start_dt     object\n",
      "finish_dt    object\n",
      "dtype: object\n",
      "Valores duplicados: 0\n",
      "Valores ausentes:\n",
      "name         0\n",
      "regions      0\n",
      "start_dt     0\n",
      "finish_dt    0\n",
      "dtype: int64\n",
      "\n",
      "--- Usuarios Nuevos ---\n",
      "Filas y columnas: (58703, 4)\n",
      "Primeras filas:\n",
      "            user_id  first_date     region   device\n",
      "0  D72A72121175D8BE  2020-12-07         EU       PC\n",
      "1  F1C668619DFE6E65  2020-12-07  N.America  Android\n",
      "2  2E1BF1D4C37EA01F  2020-12-07         EU       PC\n",
      "3  50734A22C0C63768  2020-12-07         EU   iPhone\n",
      "4  E1BDDCE0DAFA2679  2020-12-07  N.America   iPhone\n",
      "Tipos de datos:\n",
      "user_id       object\n",
      "first_date    object\n",
      "region        object\n",
      "device        object\n",
      "dtype: object\n",
      "Valores duplicados: 0\n",
      "Valores ausentes:\n",
      "user_id       0\n",
      "first_date    0\n",
      "region        0\n",
      "device        0\n",
      "dtype: int64\n",
      "\n",
      "--- Eventos ---\n",
      "Filas y columnas: (423761, 4)\n",
      "Primeras filas:\n",
      "            user_id          event_dt event_name  details\n",
      "0  E1BDDCE0DAFA2679  2020-12-07 20:22   purchase    99.99\n",
      "1  7B6452F081F49504   2020-12-07 9:22   purchase     9.99\n",
      "2  9CD9F34546DF254C  2020-12-07 12:59   purchase     4.99\n",
      "3  96F27A054B191457   2020-12-07 4:02   purchase     4.99\n",
      "4  1FD7660FDF94CA1F  2020-12-07 10:15   purchase     4.99\n",
      "Tipos de datos:\n",
      "user_id        object\n",
      "event_dt       object\n",
      "event_name     object\n",
      "details       float64\n",
      "dtype: object\n",
      "Valores duplicados: 0\n",
      "Valores ausentes:\n",
      "user_id            0\n",
      "event_dt           0\n",
      "event_name         0\n",
      "details       363447\n",
      "dtype: int64\n",
      "\n",
      "--- Participantes ---\n",
      "Filas y columnas: (14525, 3)\n",
      "Primeras filas:\n",
      "            user_id group                  ab_test\n",
      "0  D1ABA3E2887B6A73     A  recommender_system_test\n",
      "1  A7A3664BD6242119     A  recommender_system_test\n",
      "2  DABC14FDDFADD29E     A  recommender_system_test\n",
      "3  04988C5DF189632E     A  recommender_system_test\n",
      "4  4FF2998A348C484F     A  recommender_system_test\n",
      "Tipos de datos:\n",
      "user_id    object\n",
      "group      object\n",
      "ab_test    object\n",
      "dtype: object\n",
      "Valores duplicados: 0\n",
      "Valores ausentes:\n",
      "user_id    0\n",
      "group      0\n",
      "ab_test    0\n",
      "dtype: int64\n"
     ]
    }
   ],
   "source": [
    "# Resumen inicial de los datos\n",
    "def summarize_data(df, name):\n",
    "    print(f\"\\n--- {name} ---\")\n",
    "    print(f\"Filas y columnas: {df.shape}\")\n",
    "    print(f\"Primeras filas:\\n{df.head()}\")\n",
    "    print(f\"Tipos de datos:\\n{df.dtypes}\")\n",
    "    print(f\"Valores duplicados: {df.duplicated().sum()}\")\n",
    "    print(f\"Valores ausentes:\\n{df.isnull().sum()}\")\n",
    "\n",
    "# a) Datos de Marketing\n",
    "summarize_data(ab_project_marketing_events, 'Datos de Marketing')\n",
    "\n",
    "# b) Datos de Usuarios Nuevos\n",
    "summarize_data(final_ab_new_users, 'Usuarios Nuevos')\n",
    "\n",
    "# c) Datos de Eventos\n",
    "summarize_data(final_ab_events, 'Eventos')\n",
    "\n",
    "# d) Datos de Participantes\n",
    "summarize_data(final_ab_participants, 'Participantes')"
   ]
  },
  {
   "cell_type": "markdown",
   "metadata": {},
   "source": [
    "   - ¿Es necesario convertir los tipos?\n",
    "   - ¿Hay valores ausentes o duplicados? Si es así, ¿cómo los caracterizarías?"
   ]
  },
  {
   "cell_type": "markdown",
   "metadata": {},
   "source": [
    "**Observaciones**\n",
    "\n",
    "- La inspección de datos nos indica que se encontraron valores ausentes en la columna **`details`** en el dataset 'Eventos'. Esto es normal ya que esa columna refleja el monto de compra para los eventos `purchase`. El resto de datasets no cuenta con valores ausentes.\n",
    "- Será necesario convertir las columnas de fechas al tipo 'datetime' ya que actualmente se catalogan como 'object'."
   ]
  },
  {
   "cell_type": "markdown",
   "metadata": {},
   "source": [
    "Ahora realizaremos la validación específica para cada archivo.\n"
   ]
  },
  {
   "cell_type": "code",
   "execution_count": 4,
   "metadata": {},
   "outputs": [
    {
     "name": "stdout",
     "output_type": "stream",
     "text": [
      "Tipos después de la conversión:\n",
      "<class 'pandas.core.frame.DataFrame'>\n",
      "RangeIndex: 14 entries, 0 to 13\n",
      "Data columns (total 4 columns):\n",
      " #   Column     Non-Null Count  Dtype         \n",
      "---  ------     --------------  -----         \n",
      " 0   name       14 non-null     object        \n",
      " 1   regions    14 non-null     object        \n",
      " 2   start_dt   14 non-null     datetime64[ns]\n",
      " 3   finish_dt  14 non-null     datetime64[ns]\n",
      "dtypes: datetime64[ns](2), object(2)\n",
      "memory usage: 580.0+ bytes\n",
      "None\n"
     ]
    }
   ],
   "source": [
    "# a) Marketing: \n",
    "# Convertir columnas de fecha a datetime\n",
    "\n",
    "ab_project_marketing_events['start_dt'] = pd.to_datetime(ab_project_marketing_events['start_dt'])\n",
    "ab_project_marketing_events['finish_dt'] = pd.to_datetime(ab_project_marketing_events['finish_dt'])\n",
    "\n",
    "print(\"Tipos después de la conversión:\")\n",
    "print(ab_project_marketing_events.info())\n"
   ]
  },
  {
   "cell_type": "code",
   "execution_count": 5,
   "metadata": {},
   "outputs": [
    {
     "name": "stdout",
     "output_type": "stream",
     "text": [
      "Tipos después de la conversión:\n",
      "<class 'pandas.core.frame.DataFrame'>\n",
      "RangeIndex: 58703 entries, 0 to 58702\n",
      "Data columns (total 4 columns):\n",
      " #   Column      Non-Null Count  Dtype         \n",
      "---  ------      --------------  -----         \n",
      " 0   user_id     58703 non-null  object        \n",
      " 1   first_date  58703 non-null  datetime64[ns]\n",
      " 2   region      58703 non-null  object        \n",
      " 3   device      58703 non-null  object        \n",
      "dtypes: datetime64[ns](1), object(3)\n",
      "memory usage: 1.8+ MB\n",
      "None\n"
     ]
    }
   ],
   "source": [
    "# b) Usuarios Nuevos\n",
    "# Convertir columnas de fecha a datetime\n",
    "final_ab_new_users['first_date'] = pd.to_datetime(final_ab_new_users['first_date'])\n",
    "\n",
    "print(\"Tipos después de la conversión:\")\n",
    "print(final_ab_new_users.info())"
   ]
  },
  {
   "cell_type": "code",
   "execution_count": 6,
   "metadata": {},
   "outputs": [
    {
     "name": "stdout",
     "output_type": "stream",
     "text": [
      "            user_id first_date region   device\n",
      "0  D72A72121175D8BE 2020-12-07     EU       PC\n",
      "2  2E1BF1D4C37EA01F 2020-12-07     EU       PC\n",
      "3  50734A22C0C63768 2020-12-07     EU   iPhone\n",
      "7  8942E64218C9A1ED 2020-12-07     EU       PC\n",
      "9  FFCEA1179C253104 2020-12-07     EU  Android\n"
     ]
    }
   ],
   "source": [
    "# Filtrar usuarios duplicados en user_id\n",
    "duplicates_users = final_ab_new_users[final_ab_new_users.duplicated('user_id')]\n",
    "if not duplicates_users.empty:\n",
    "    print(\"\\nUsuarios duplicados detectados en Usuarios Nuevos:\")\n",
    "    print(duplicates_users)\n",
    "final_ab_new_users.drop_duplicates(subset='user_id', inplace=True)\n",
    "\n",
    "# Filtrar solo usuarios de la región EU\n",
    "final_ab_new_users = final_ab_new_users[final_ab_new_users['region'] == 'EU']\n",
    "\n",
    "# Filtrar usuarios fuera del rango de fechas del 7 al 21 de diciembre de 2020\n",
    "final_ab_new_users = final_ab_new_users[\n",
    "    (final_ab_new_users['first_date'] >= '2020-12-07') &\n",
    "    (final_ab_new_users['first_date'] <= '2020-12-21') \n",
    "] \n",
    "\n",
    "print(final_ab_new_users.head())\n"
   ]
  },
  {
   "cell_type": "code",
   "execution_count": 7,
   "metadata": {},
   "outputs": [
    {
     "name": "stdout",
     "output_type": "stream",
     "text": [
      "<class 'pandas.core.frame.DataFrame'>\n",
      "Index: 39466 entries, 0 to 58702\n",
      "Data columns (total 4 columns):\n",
      " #   Column      Non-Null Count  Dtype         \n",
      "---  ------      --------------  -----         \n",
      " 0   user_id     39466 non-null  object        \n",
      " 1   first_date  39466 non-null  datetime64[ns]\n",
      " 2   region      39466 non-null  object        \n",
      " 3   device      39466 non-null  object        \n",
      "dtypes: datetime64[ns](1), object(3)\n",
      "memory usage: 1.5+ MB\n",
      "None\n"
     ]
    }
   ],
   "source": [
    "print(final_ab_new_users.info())"
   ]
  },
  {
   "cell_type": "code",
   "execution_count": 8,
   "metadata": {},
   "outputs": [
    {
     "name": "stdout",
     "output_type": "stream",
     "text": [
      "Tipos después de la conversión:\n",
      "<class 'pandas.core.frame.DataFrame'>\n",
      "RangeIndex: 423761 entries, 0 to 423760\n",
      "Data columns (total 4 columns):\n",
      " #   Column      Non-Null Count   Dtype         \n",
      "---  ------      --------------   -----         \n",
      " 0   user_id     423761 non-null  object        \n",
      " 1   event_dt    423761 non-null  datetime64[ns]\n",
      " 2   event_name  423761 non-null  object        \n",
      " 3   details     60314 non-null   float64       \n",
      "dtypes: datetime64[ns](1), float64(1), object(2)\n",
      "memory usage: 12.9+ MB\n",
      "None\n"
     ]
    }
   ],
   "source": [
    "# c) Eventos\n",
    "# Convertir columnas de fecha a datetime\n",
    "final_ab_events['event_dt'] = pd.to_datetime(final_ab_events['event_dt'])\n",
    "\n",
    "print(\"Tipos después de la conversión:\")\n",
    "print(final_ab_events.info())"
   ]
  },
  {
   "cell_type": "code",
   "execution_count": 9,
   "metadata": {},
   "outputs": [
    {
     "name": "stdout",
     "output_type": "stream",
     "text": [
      "\n",
      "Eventos duplicados detectados:\n",
      "                 user_id            event_dt    event_name  details\n",
      "60320   831887FE7F2D6CBA 2020-12-07 06:50:00  product_cart      NaN\n",
      "60329   E2E76A8B3389127C 2020-12-07 15:39:00  product_cart      NaN\n",
      "60338   649ECF69EC552A56 2020-12-07 06:19:00  product_cart      NaN\n",
      "60343   435506A7A2265BBD 2020-12-07 11:53:00  product_cart      NaN\n",
      "60346   909B249EB165910F 2020-12-07 07:06:00  product_cart      NaN\n",
      "...                  ...                 ...           ...      ...\n",
      "423754  D1553B56FFA8974B 2020-12-30 03:15:00         login      NaN\n",
      "423755  6181F3835EBE66BF 2020-12-30 12:00:00         login      NaN\n",
      "423756  245E85F65C358E08 2020-12-30 19:35:00         login      NaN\n",
      "423759  F80C9BDDEA02E53C 2020-12-30 09:53:00         login      NaN\n",
      "423760  7AEC61159B672CC5 2020-12-30 11:36:00         login      NaN\n",
      "\n",
      "[238454 rows x 4 columns]\n",
      "<class 'pandas.core.frame.DataFrame'>\n",
      "Index: 185307 entries, 0 to 423758\n",
      "Data columns (total 4 columns):\n",
      " #   Column      Non-Null Count   Dtype         \n",
      "---  ------      --------------   -----         \n",
      " 0   user_id     185307 non-null  object        \n",
      " 1   event_dt    185307 non-null  datetime64[ns]\n",
      " 2   event_name  185307 non-null  object        \n",
      " 3   details     60314 non-null   float64       \n",
      "dtypes: datetime64[ns](1), float64(1), object(2)\n",
      "memory usage: 7.1+ MB\n"
     ]
    }
   ],
   "source": [
    "# Filtrar eventos duplicados (user_id + event_dt)\n",
    "duplicates_events = final_ab_events[final_ab_events.duplicated(['user_id', 'event_dt'])]\n",
    "if not duplicates_events.empty:\n",
    "    print(\"\\nEventos duplicados detectados:\")\n",
    "    print(duplicates_events)\n",
    "final_ab_events.drop_duplicates(subset=['user_id', 'event_dt'], inplace=True)\n",
    "\n",
    "(final_ab_events.info())"
   ]
  },
  {
   "cell_type": "code",
   "execution_count": 10,
   "metadata": {},
   "outputs": [
    {
     "name": "stdout",
     "output_type": "stream",
     "text": [
      "<class 'pandas.core.frame.DataFrame'>\n",
      "Index: 185307 entries, 0 to 423758\n",
      "Data columns (total 4 columns):\n",
      " #   Column      Non-Null Count   Dtype         \n",
      "---  ------      --------------   -----         \n",
      " 0   user_id     185307 non-null  object        \n",
      " 1   event_dt    185307 non-null  datetime64[ns]\n",
      " 2   event_name  185307 non-null  object        \n",
      " 3   details     60314 non-null   float64       \n",
      "dtypes: datetime64[ns](1), float64(1), object(2)\n",
      "memory usage: 7.1+ MB\n",
      "None\n"
     ]
    }
   ],
   "source": [
    "# Filtrar eventos fuera del rango de fechas\n",
    "final_ab_events = final_ab_events[\n",
    "    (final_ab_events['event_dt'] >= '2020-12-07') &\n",
    "    (final_ab_events['event_dt'] <= '2021-01-01')\n",
    "]\n",
    "\n",
    "print(final_ab_events.info())"
   ]
  },
  {
   "cell_type": "code",
   "execution_count": 11,
   "metadata": {
    "scrolled": true
   },
   "outputs": [
    {
     "name": "stdout",
     "output_type": "stream",
     "text": [
      "            user_id group                  ab_test\n",
      "0  D1ABA3E2887B6A73     A  recommender_system_test\n",
      "1  A7A3664BD6242119     A  recommender_system_test\n",
      "2  DABC14FDDFADD29E     A  recommender_system_test\n",
      "3  04988C5DF189632E     A  recommender_system_test\n",
      "4  4FF2998A348C484F     A  recommender_system_test\n",
      "<class 'pandas.core.frame.DataFrame'>\n",
      "Index: 3675 entries, 0 to 3674\n",
      "Data columns (total 3 columns):\n",
      " #   Column   Non-Null Count  Dtype \n",
      "---  ------   --------------  ----- \n",
      " 0   user_id  3675 non-null   object\n",
      " 1   group    3675 non-null   object\n",
      " 2   ab_test  3675 non-null   object\n",
      "dtypes: object(3)\n",
      "memory usage: 114.8+ KB\n"
     ]
    }
   ],
   "source": [
    "# d) Participantes\n",
    "# Filtrar solo usuarios relacionados con la prueba 'recommender_system_test'\n",
    "final_ab_participants = final_ab_participants[final_ab_participants['ab_test'] == 'recommender_system_test']\n",
    "\n",
    "# Verificar si algún usuario está en ambos grupos\n",
    "cross_group_users = final_ab_participants.groupby('user_id')['group'].nunique()\n",
    "cross_group_users = cross_group_users[cross_group_users > 1]\n",
    "if not cross_group_users.empty:\n",
    "    print(\"\\nUsuarios presentes en ambos grupos detectados:\")\n",
    "    print(cross_group_users)\n",
    "    # Eliminar estos usuarios\n",
    "    final_ab_participants = final_ab_participants[~final_ab_participants['user_id'].isin(cross_group_users.index)]\n",
    "    \n",
    "print(final_ab_participants.head())\n",
    "(final_ab_participants.info())"
   ]
  },
  {
   "cell_type": "markdown",
   "metadata": {},
   "source": [
    "**Observaciones**\n",
    "\n",
    "- Realizamos la conversión de las columnas de fechas al tipo 'datetime'.\n",
    "- Confirmamos que los datos en en dataset \"Participantes\" se limitan a la prueba 'recommender_system_test' y los grupos A y B.\n",
    "- Verificamos que las regiones en el dataset \"Nuevos Usuarios\" sean exclusivamente UE."
   ]
  },
  {
   "cell_type": "markdown",
   "metadata": {},
   "source": [
    "## Análisis exploratorio\n"
   ]
  },
  {
   "cell_type": "markdown",
   "metadata": {},
   "source": [
    "### Estudia la conversión en las diferentes etapas del embudo.\n"
   ]
  },
  {
   "cell_type": "code",
   "execution_count": 12,
   "metadata": {},
   "outputs": [
    {
     "name": "stdout",
     "output_type": "stream",
     "text": [
      "\n",
      "Tasas de conversión por grupo:\n"
     ]
    },
    {
     "data": {
      "text/html": [
       "<div>\n",
       "<style scoped>\n",
       "    .dataframe tbody tr th:only-of-type {\n",
       "        vertical-align: middle;\n",
       "    }\n",
       "\n",
       "    .dataframe tbody tr th {\n",
       "        vertical-align: top;\n",
       "    }\n",
       "\n",
       "    .dataframe thead th {\n",
       "        text-align: right;\n",
       "    }\n",
       "</style>\n",
       "<table border=\"1\" class=\"dataframe\">\n",
       "  <thead>\n",
       "    <tr style=\"text-align: right;\">\n",
       "      <th>event_name</th>\n",
       "      <th>product_cart</th>\n",
       "      <th>product_page</th>\n",
       "      <th>purchase</th>\n",
       "      <th>product_page_to_cart</th>\n",
       "      <th>cart_to_purchase</th>\n",
       "      <th>total_users</th>\n",
       "    </tr>\n",
       "    <tr>\n",
       "      <th>group</th>\n",
       "      <th></th>\n",
       "      <th></th>\n",
       "      <th></th>\n",
       "      <th></th>\n",
       "      <th></th>\n",
       "      <th></th>\n",
       "    </tr>\n",
       "  </thead>\n",
       "  <tbody>\n",
       "    <tr>\n",
       "      <th>A</th>\n",
       "      <td>576</td>\n",
       "      <td>850</td>\n",
       "      <td>872</td>\n",
       "      <td>0.677647</td>\n",
       "      <td>1.513889</td>\n",
       "      <td>2235</td>\n",
       "    </tr>\n",
       "    <tr>\n",
       "      <th>B</th>\n",
       "      <td>184</td>\n",
       "      <td>278</td>\n",
       "      <td>256</td>\n",
       "      <td>0.661871</td>\n",
       "      <td>1.391304</td>\n",
       "      <td>700</td>\n",
       "    </tr>\n",
       "  </tbody>\n",
       "</table>\n",
       "</div>"
      ],
      "text/plain": [
       "event_name  product_cart  product_page  purchase  product_page_to_cart  \\\n",
       "group                                                                    \n",
       "A                    576           850       872              0.677647   \n",
       "B                    184           278       256              0.661871   \n",
       "\n",
       "event_name  cart_to_purchase  total_users  \n",
       "group                                      \n",
       "A                   1.513889         2235  \n",
       "B                   1.391304          700  "
      ]
     },
     "execution_count": 12,
     "metadata": {},
     "output_type": "execute_result"
    }
   ],
   "source": [
    "# Filtrar eventos clave\n",
    "events_filtered = final_ab_events[final_ab_events['event_name'].isin(['product_page', 'product_cart', 'purchase'])]\n",
    "\n",
    "# Combinar eventos con los participantes para asignar grupos\n",
    "events_with_groups = events_filtered.merge(final_ab_participants, on='user_id', how='inner')\n",
    "\n",
    "# Calcular eventos únicos por grupo y etapa del embudo\n",
    "conversion = events_with_groups.groupby(['group', 'event_name'])['user_id'].nunique().reset_index()\n",
    "conversion = conversion.pivot(index='group', columns='event_name', values='user_id')\n",
    "\n",
    "# Agregar cálculos de conversión en cada etapa\n",
    "conversion['product_page_to_cart'] = conversion['product_cart'] / conversion['product_page']\n",
    "conversion['cart_to_purchase'] = conversion['purchase'] / conversion['product_cart']\n",
    "\n",
    "# Contar el total de usuarios únicos por grupo\n",
    "total_users_by_group = events_with_groups.groupby('group')['user_id'].nunique()\n",
    "conversion['total_users'] = total_users_by_group\n",
    "\n",
    "print(\"\\nTasas de conversión por grupo:\")\n",
    "(conversion)\n"
   ]
  },
  {
   "cell_type": "code",
   "execution_count": 13,
   "metadata": {},
   "outputs": [
    {
     "data": {
      "image/png": "[encoded data removed]",
      "text/plain": [
       "<Figure size 1000x600 with 1 Axes>"
      ]
     },
     "metadata": {},
     "output_type": "display_data"
    }
   ],
   "source": [
    "# Gráfico de tasas de conversión por etapa\n",
    "conversion[['product_page_to_cart', 'cart_to_purchase']].plot(kind='bar', figsize=(10, 6))\n",
    "plt.title(\"Tasas de Conversión por Grupo\")\n",
    "plt.ylabel(\"Tasa de Conversión\")\n",
    "plt.xlabel(\"Grupo\")\n",
    "plt.xticks(rotation=0)\n",
    "plt.legend([\"Page to Cart\", \"Cart to Purchase\"])\n",
    "plt.grid(axis='y')\n",
    "plt.show()"
   ]
  },
  {
   "cell_type": "markdown",
   "metadata": {},
   "source": [
    "**Observaciones**\n",
    "\n",
    "- Tasa de conversión página a carrito (page_to_cart):\n",
    "    - El Grupo B tiene una conversión ligeramente mayor (50.63%) que el Grupo A (48.47%).\n",
    "    - Esto podría sugerir que los usuarios del Grupo B son más propensos a añadir productos al carrito después de visitar la página del producto.\n",
    "\n",
    "- Tasa de conversión carrito a compra (cart_to_purchase):\n",
    "    - Ambas tasas son superiores al 100%. Esto podría indicar que algunos usuarios realizaron compras sin pasar explícitamente por el evento \"product_cart\" o hubo usuarios que compraron múltiples veces.\n",
    "    - El Grupo A tiene una tasa mayor (110.24%) que el Grupo B (105.79%), lo que indica una mejor eficacia en convertir carritos en compras."
   ]
  },
  {
   "cell_type": "markdown",
   "metadata": {},
   "source": [
    "### ¿El número de eventos por usuario está distribuido equitativamente entre las muestras?\n"
   ]
  },
  {
   "cell_type": "code",
   "execution_count": 14,
   "metadata": {},
   "outputs": [
    {
     "name": "stdout",
     "output_type": "stream",
     "text": [
      "\n",
      "Distribución del número de eventos por usuario:\n"
     ]
    },
    {
     "data": {
      "text/html": [
       "<div>\n",
       "<style scoped>\n",
       "    .dataframe tbody tr th:only-of-type {\n",
       "        vertical-align: middle;\n",
       "    }\n",
       "\n",
       "    .dataframe tbody tr th {\n",
       "        vertical-align: top;\n",
       "    }\n",
       "\n",
       "    .dataframe thead th {\n",
       "        text-align: right;\n",
       "    }\n",
       "</style>\n",
       "<table border=\"1\" class=\"dataframe\">\n",
       "  <thead>\n",
       "    <tr style=\"text-align: right;\">\n",
       "      <th></th>\n",
       "      <th>count</th>\n",
       "      <th>mean</th>\n",
       "      <th>std</th>\n",
       "      <th>min</th>\n",
       "      <th>25%</th>\n",
       "      <th>50%</th>\n",
       "      <th>75%</th>\n",
       "      <th>max</th>\n",
       "    </tr>\n",
       "    <tr>\n",
       "      <th>group</th>\n",
       "      <th></th>\n",
       "      <th></th>\n",
       "      <th></th>\n",
       "      <th></th>\n",
       "      <th></th>\n",
       "      <th></th>\n",
       "      <th></th>\n",
       "      <th></th>\n",
       "    </tr>\n",
       "  </thead>\n",
       "  <tbody>\n",
       "    <tr>\n",
       "      <th>A</th>\n",
       "      <td>2235.0</td>\n",
       "      <td>3.015660</td>\n",
       "      <td>1.204374</td>\n",
       "      <td>1.0</td>\n",
       "      <td>2.0</td>\n",
       "      <td>3.0</td>\n",
       "      <td>4.0</td>\n",
       "      <td>7.0</td>\n",
       "    </tr>\n",
       "    <tr>\n",
       "      <th>B</th>\n",
       "      <td>700.0</td>\n",
       "      <td>2.697143</td>\n",
       "      <td>1.286996</td>\n",
       "      <td>1.0</td>\n",
       "      <td>2.0</td>\n",
       "      <td>3.0</td>\n",
       "      <td>3.0</td>\n",
       "      <td>8.0</td>\n",
       "    </tr>\n",
       "  </tbody>\n",
       "</table>\n",
       "</div>"
      ],
      "text/plain": [
       "        count      mean       std  min  25%  50%  75%  max\n",
       "group                                                     \n",
       "A      2235.0  3.015660  1.204374  1.0  2.0  3.0  4.0  7.0\n",
       "B       700.0  2.697143  1.286996  1.0  2.0  3.0  3.0  8.0"
      ]
     },
     "execution_count": 14,
     "metadata": {},
     "output_type": "execute_result"
    }
   ],
   "source": [
    "# Calcular número de eventos por usuario en cada grupo\n",
    "events_count = events_with_groups.groupby(['group', 'user_id'])['event_name'].count().reset_index()\n",
    "events_distribution = events_count.groupby('group')['event_name'].describe()\n",
    "\n",
    "print(\"\\nDistribución del número de eventos por usuario:\")\n",
    "(events_distribution)\n"
   ]
  },
  {
   "cell_type": "markdown",
   "metadata": {},
   "source": [
    "**Observaciones** \n",
    "\n",
    "- Los usuarios del grupo experimental (B) realizan, en promedio, menos eventos que los del grupo control (3.35 vs. 3.88\n",
    "- La desviación estándar es comparable entre los grupos (~1.9), lo que sugiere que la dispersión en el número de eventos no varía mucho entre ellos.\n",
    "- Aunque el promedio de eventos es menor en el grupo B, tiene un usuario con 14 eventos (vs. 13 en A), indicando casos extremos en ambos grupos."
   ]
  },
  {
   "cell_type": "markdown",
   "metadata": {},
   "source": [
    "### ¿Hay usuarios que están presentes en ambas muestras?\n"
   ]
  },
  {
   "cell_type": "code",
   "execution_count": 15,
   "metadata": {},
   "outputs": [
    {
     "name": "stdout",
     "output_type": "stream",
     "text": [
      "\n",
      "Usuarios presentes en ambas muestras: 0\n"
     ]
    }
   ],
   "source": [
    "# Verificar usuarios duplicados entre grupos\n",
    "user_group_counts = final_ab_participants.groupby('user_id')['group'].nunique()\n",
    "users_in_both_groups = user_group_counts[user_group_counts > 1].count()\n",
    "\n",
    "print(\"\\nUsuarios presentes en ambas muestras:\", users_in_both_groups)\n"
   ]
  },
  {
   "cell_type": "markdown",
   "metadata": {},
   "source": [
    "**Observaciones**\n",
    "\n",
    "- No se localizaron usuarios presentes en ambas muestras.\n"
   ]
  },
  {
   "cell_type": "markdown",
   "metadata": {},
   "source": [
    "### ¿Cómo se distribuye el número de eventos entre los días?\n"
   ]
  },
  {
   "cell_type": "code",
   "execution_count": 16,
   "metadata": {},
   "outputs": [
    {
     "name": "stdout",
     "output_type": "stream",
     "text": [
      "\n",
      "Distribución diaria de eventos:\n",
      "    event_date group  event_name\n",
      "0   2020-12-07     A         122\n",
      "1   2020-12-07     B         144\n",
      "2   2020-12-08     A         135\n",
      "3   2020-12-08     B          87\n",
      "4   2020-12-09     A         142\n",
      "5   2020-12-09     B         135\n",
      "6   2020-12-10     A         127\n",
      "7   2020-12-10     B          94\n",
      "8   2020-12-11     A         140\n",
      "9   2020-12-11     B          55\n",
      "10  2020-12-12     A         126\n",
      "11  2020-12-12     B          72\n",
      "12  2020-12-13     A         119\n",
      "13  2020-12-13     B          59\n",
      "14  2020-12-14     A         383\n",
      "15  2020-12-14     B         100\n",
      "16  2020-12-15     A         392\n",
      "17  2020-12-15     B          78\n",
      "18  2020-12-16     A         377\n",
      "19  2020-12-16     B         138\n",
      "20  2020-12-17     A         452\n",
      "21  2020-12-17     B         106\n",
      "22  2020-12-18     A         467\n",
      "23  2020-12-18     B         100\n",
      "24  2020-12-19     A         544\n",
      "25  2020-12-19     B         111\n",
      "26  2020-12-20     A         547\n",
      "27  2020-12-20     B         110\n",
      "28  2020-12-21     A         732\n",
      "29  2020-12-21     B         154\n",
      "30  2020-12-22     A         473\n",
      "31  2020-12-22     B          68\n",
      "32  2020-12-23     A         365\n",
      "33  2020-12-23     B          70\n",
      "34  2020-12-24     A         326\n",
      "35  2020-12-24     B          56\n",
      "36  2020-12-26     A         219\n",
      "37  2020-12-26     B          46\n",
      "38  2020-12-27     A         209\n",
      "39  2020-12-27     B          42\n",
      "40  2020-12-28     A         183\n",
      "41  2020-12-28     B          34\n",
      "42  2020-12-29     A         160\n",
      "43  2020-12-29     B          27\n",
      "44  2020-12-30     B           2\n"
     ]
    }
   ],
   "source": [
    "# Agregar una columna con solo la fecha de cada evento\n",
    "events_with_groups['event_date'] = events_with_groups['event_dt'].dt.date\n",
    "\n",
    "# Calcular el número de eventos por día y grupo\n",
    "daily_events = events_with_groups.groupby(['event_date', 'group'])['event_name'].count().reset_index()\n",
    "\n",
    "print(\"\\nDistribución diaria de eventos:\")\n",
    "print(daily_events)\n"
   ]
  },
  {
   "cell_type": "code",
   "execution_count": 17,
   "metadata": {},
   "outputs": [
    {
     "data": {
      "image/png": "[encoded data removed]",
      "text/plain": [
       "<Figure size 1000x600 with 1 Axes>"
      ]
     },
     "metadata": {},
     "output_type": "display_data"
    }
   ],
   "source": [
    "# Graficar la distribución de eventos diarios\n",
    "plt.figure(figsize=(10, 6))\n",
    "for group in daily_events['group'].unique():\n",
    "    group_data = daily_events[daily_events['group'] == group]\n",
    "    plt.plot(group_data['event_date'], group_data['event_name'], label=f\"Grupo {group}\")\n",
    "\n",
    "plt.title(\"Distribución diaria de eventos por grupo\")\n",
    "plt.xlabel(\"Fecha\")\n",
    "plt.ylabel(\"Número de eventos\")\n",
    "plt.legend()\n",
    "plt.show()"
   ]
  },
  {
   "cell_type": "markdown",
   "metadata": {},
   "source": [
    "**Observaciones**\n",
    "\n",
    "- El grupo A tiene consistentemente más eventos diarios que el grupo B, lo cual es esperado dado que el grupo A cuenta con un mayor número de usuarios.\n",
    "- Desde el inicio (7 de diciembre) hasta el 21 de diciembre, ambos grupos muestran una tendencia ascendente en el número de eventos diarios. Esto coincide con el período en que se permitía la inscripción de nuevos usuarios en la prueba."
   ]
  },
  {
   "cell_type": "markdown",
   "metadata": {},
   "source": [
    "### ¿Hay alguna peculiaridad en los datos que hay que tener en cuenta antes de iniciar la prueba A/B?"
   ]
  },
  {
   "cell_type": "code",
   "execution_count": 18,
   "metadata": {},
   "outputs": [
    {
     "name": "stdout",
     "output_type": "stream",
     "text": [
      "\n",
      "Usuarios fuera del rango de fechas: 0\n",
      "Eventos fuera del rango de fechas: 0\n",
      "\n",
      "Distribución de regiones:\n",
      "region\n",
      "EU    1.0\n",
      "Name: proportion, dtype: float64\n",
      "\n",
      "Distribución de dispositivos:\n",
      "device\n",
      "Android    0.444712\n",
      "PC         0.254396\n",
      "iPhone     0.202427\n",
      "Mac        0.098465\n",
      "Name: proportion, dtype: float64\n"
     ]
    }
   ],
   "source": [
    "# Verificar fechas fuera del rango\n",
    "out_of_range_users = final_ab_new_users[(final_ab_new_users['first_date'] < '2020-12-07') | (final_ab_new_users['first_date'] > '2020-12-21')]\n",
    "out_of_range_events = final_ab_events[(final_ab_events['event_dt'] < '2020-12-07') | (final_ab_events['event_dt'] > '2021-01-01')]\n",
    "\n",
    "print(\"\\nUsuarios fuera del rango de fechas:\", len(out_of_range_users))\n",
    "print(\"Eventos fuera del rango de fechas:\", len(out_of_range_events))\n",
    "\n",
    "# Verificar dominancia de regiones o dispositivos\n",
    "region_distribution = final_ab_new_users['region'].value_counts(normalize=True)\n",
    "device_distribution = final_ab_new_users['device'].value_counts(normalize=True)\n",
    "\n",
    "print(\"\\nDistribución de regiones:\")\n",
    "print(region_distribution)\n",
    "print(\"\\nDistribución de dispositivos:\")\n",
    "print(device_distribution)\n"
   ]
  },
  {
   "cell_type": "markdown",
   "metadata": {},
   "source": [
    "**Observaciones**\n",
    "\n",
    "- No se encontraron usuarios ni eventos fuera del rango de fechas.\n",
    "- Los usuarios de la prueba se encuentran en la región asignada (EU).\n",
    "- Me parece interesante notificar que el 44.47% de los usuarios accedieron al sitio web por medio de un dispositivo Android, lo cual podría ser relevante para que proximas campañas pudieran estar optimizadas y dirigidas a este tipo de usuarios."
   ]
  },
  {
   "cell_type": "markdown",
   "metadata": {},
   "source": [
    "## Evaluar los resultados de la prueba A/B"
   ]
  },
  {
   "cell_type": "markdown",
   "metadata": {},
   "source": [
    "### ¿Qué puedes decir sobre los resultados de la prueba A/B?\n"
   ]
  },
  {
   "cell_type": "code",
   "execution_count": 19,
   "metadata": {},
   "outputs": [
    {
     "name": "stdout",
     "output_type": "stream",
     "text": [
      "❌ La etapa 'product_page' NO alcanzó el objetivo de aumento del 10%. (Cambio: -6.48%)\n",
      "❌ La etapa 'product_cart' NO alcanzó el objetivo de aumento del 10%. (Cambio: 4.46%)\n",
      "❌ La etapa 'purchase' NO alcanzó el objetivo de aumento del 10%. (Cambio: -4.04%)\n"
     ]
    }
   ],
   "source": [
    "# Datos para evaluar la prueba A/B\n",
    "product_page_A, product_page_B = 1632, 478\n",
    "product_cart_A, product_cart_B = 791, 242\n",
    "purchase_A, purchase_B = 872, 256\n",
    "\n",
    "n_A, n_B = 2235, 700  # Total de usuarios únicos en cada grupo\n",
    "\n",
    "# Tasas de conversión en cada etapa\n",
    "conversion_A = {\n",
    "    \"product_page\": product_page_A / n_A,\n",
    "    \"product_cart\": product_cart_A / product_page_A,\n",
    "    \"purchase\": purchase_A / product_cart_A,\n",
    "}\n",
    "\n",
    "conversion_B = {\n",
    "    \"product_page\": product_page_B / n_B,\n",
    "    \"product_cart\": product_cart_B / product_page_B,\n",
    "    \"purchase\": purchase_B / product_cart_B,\n",
    "}\n",
    "\n",
    "# Cambios relativos en cada etapa\n",
    "relative_changes = {\n",
    "    stage: ((conversion_B[stage] - conversion_A[stage]) / conversion_A[stage]) * 100\n",
    "    for stage in conversion_A\n",
    "}\n",
    "\n",
    "# Evaluar si los cambios alcanzan el 10%\n",
    "for stage, change in relative_changes.items():\n",
    "    if change >= 10:\n",
    "        print(f\"✅ La etapa '{stage}' alcanzó el objetivo de aumento del 10%. (Cambio: {change:.2f}%)\")\n",
    "    else:\n",
    "        print(f\"❌ La etapa '{stage}' NO alcanzó el objetivo de aumento del 10%. (Cambio: {change:.2f}%)\")\n",
    "\n"
   ]
  },
  {
   "cell_type": "markdown",
   "metadata": {},
   "source": [
    "**Observaciones**\n",
    "\n",
    "- Como podemos observar, no se logró el objetivo de aumento del 10% de la tasa de conversión en ninguna de las etapas del embudo.\n"
   ]
  },
  {
   "cell_type": "markdown",
   "metadata": {},
   "source": [
    "### Utiliza una prueba z para comprobar la diferencia estadística entre las proporciones."
   ]
  },
  {
   "cell_type": "markdown",
   "metadata": {},
   "source": [
    "Hipótesis:\n",
    "\n",
    "    H0: No hay diferencia en las proporciones de conversión entre los grupos A y B.\n",
    "    H1: Hay una diferencia en las proporciones de conversión entre los grupos A y B."
   ]
  },
  {
   "cell_type": "code",
   "execution_count": 20,
   "metadata": {},
   "outputs": [
    {
     "data": {
      "text/plain": [
       "{'product_page': {'z': np.float64(-2.4315903533709204),\n",
       "  'p_value': np.float64(0.9924836507925889),\n",
       "  'p1': 0.7302013422818792,\n",
       "  'p2': 0.6828571428571428},\n",
       " 'product_cart': {'z': np.float64(-0.39644916580921685),\n",
       "  'p_value': np.float64(0.6541131490545489),\n",
       "  'p1': 0.35391498881431765,\n",
       "  'p2': 0.3457142857142857},\n",
       " 'purchase': {'z': np.float64(-1.1601136227010536),\n",
       "  'p_value': np.float64(0.8769987257553529),\n",
       "  'p1': 0.3901565995525727,\n",
       "  'p2': 0.3657142857142857}}"
      ]
     },
     "execution_count": 20,
     "metadata": {},
     "output_type": "execute_result"
    }
   ],
   "source": [
    "# Datos iniciales (número de usuarios únicos por grupo y etapa del embudo)\n",
    "# Grupo A (control)\n",
    "users_A = 2235  # Total usuarios en el grupo A\n",
    "events_A = {'product_page': 1632, 'product_cart': 791, 'purchase': 872}\n",
    "\n",
    "# Grupo B (prueba)\n",
    "users_B = 700  # Total usuarios en el grupo B\n",
    "events_B = {'product_page': 478, 'product_cart': 242, 'purchase': 256}\n",
    "\n",
    "# Nivel de significancia\n",
    "alpha = 0.05\n",
    "\n",
    "# Función para calcular la prueba z\n",
    "def z_test_proportions(success_A, total_A, success_B, total_B):\n",
    "    # Proporciones de cada grupo\n",
    "    p1 = success_A / total_A\n",
    "    p2 = success_B / total_B\n",
    "\n",
    "    # Proporción combinada\n",
    "    p_combined = (success_A + success_B) / (total_A + total_B)\n",
    "\n",
    "    # Error estándar\n",
    "    se = np.sqrt(p_combined * (1 - p_combined) * (1 / total_A + 1 / total_B))\n",
    "\n",
    "    # Estadístico z\n",
    "    z = (p2 - p1) / se\n",
    "\n",
    "    # p-value\n",
    "    p_value = 1 - norm.cdf(z)  # Prueba unilateral\n",
    "\n",
    "    return z, p_value, p1, p2\n",
    "\n",
    "# Evaluar cada etapa del embudo\n",
    "results = {}\n",
    "for stage in events_A.keys():\n",
    "    z, p_value, p1, p2 = z_test_proportions(\n",
    "        events_A[stage], users_A, events_B[stage], users_B\n",
    "    )\n",
    "    results[stage] = {'z': z, 'p_value': p_value, 'p1': p1, 'p2': p2}\n",
    "\n",
    "results"
   ]
  },
  {
   "cell_type": "markdown",
   "metadata": {},
   "source": [
    "**Análisis de los resultados de la prueba Z**\n",
    "\n",
    "1. Etapa product_page (Usuarios que visitaron la página del producto)\n",
    "    - Proporción Grupo A: 73.02%\n",
    "    - Proporción Grupo B: 68.28%\n",
    "    - Estadístico Z: -2.43\n",
    "    - p-value: 0.9925\n",
    "\n",
    "✅ Interpretación:\n",
    "El valor p es mucho mayor que 0.05, lo que indica que no hay una diferencia estadísticamente significativa en la proporción de usuarios que visitaron la página del producto entre ambos grupos.\n",
    "\n",
    "\n"
   ]
  },
  {
   "cell_type": "markdown",
   "metadata": {},
   "source": [
    "2. Etapa product_cart (Usuarios que añadieron un producto al carrito)\n",
    "\n",
    "    - Proporción Grupo A: 35.39%\n",
    "    - Proporción Grupo B: 34.57%\n",
    "    - Estadístico Z: -0.40\n",
    "    - p-value: 0.6541\n",
    "\n",
    "✅ Interpretación:\n",
    "La diferencia entre grupos en esta etapa es mínima y el valor p es mayor que 0.05, lo que indica que no hay evidencia estadística de que uno de los grupos tenga una tasa de adición al carrito significativamente mayor que el otro."
   ]
  },
  {
   "cell_type": "markdown",
   "metadata": {},
   "source": [
    "3. Etapa purchase (Usuarios que realizaron una compra)\n",
    "\n",
    "    - Proporción Grupo A: 39.02%\n",
    "    - Proporción Grupo B: 36.57%\n",
    "    - Estadístico Z: -1.16\n",
    "    - p-value: 0.8770\n",
    "    \n",
    "✅ Interpretación:\n",
    "A pesar de que la proporción en el grupo A es ligeramente mayor, el p-value indica que no hay una diferencia estadísticamente significativa en la tasa de compra entre ambos grupos."
   ]
  },
  {
   "cell_type": "markdown",
   "metadata": {},
   "source": [
    "## Conclusiones del Test A/B"
   ]
  },
  {
   "cell_type": "markdown",
   "metadata": {},
   "source": [
    "- Ninguna de las etapas del embudo muestra una diferencia significativa entre los grupos A y B.\n",
    "- Aunque el grupo A tiene una ligera ventaja en cada etapa, esta diferencia no es lo suficientemente grande para ser considerada relevante desde el punto de vista estadístico.\n",
    "- No hay evidencia de que el nuevo sistema de recomendación (Grupo B) tenga un impacto significativo en la conversión de usuarios a lo largo del embudo de compra.\n",
    "- Si el objetivo era mejorar la conversión con el nuevo sistema, los resultados sugieren que no hubo una mejora sustancial y quizás sea necesario evaluar otros factores o realizar ajustes en la estrategia antes de implementarlo definitivamente.\n",
    "\n",
    "👉 Recomendación: Antes de implementar el nuevo sistema de recomendación, sería útil realizar más pruebas o analizar otros factores que podrían influir en la conversión (diseño de la página, experiencia del usuario, precios, etc.) considerando que el número previsto de participantes de la prueba fuera de 6 000 y no se logró este objetivo además de que la proporción de participantes entre los grupos A y B no fue equitativa."
   ]
  }
 ],
 "metadata": {
  "ExecuteTimeLog": [
   {
    "duration": 2450,
    "start_time": "2025-01-23T08:35:24.088Z"
   },
   {
    "duration": 12,
    "start_time": "2025-01-23T08:35:26.540Z"
   },
   {
    "duration": 67,
    "start_time": "2025-01-23T08:35:26.553Z"
   },
   {
    "duration": 325,
    "start_time": "2025-01-23T08:35:26.622Z"
   },
   {
    "duration": 27,
    "start_time": "2025-01-23T08:35:26.949Z"
   },
   {
    "duration": 3,
    "start_time": "2025-01-23T08:37:51.361Z"
   },
   {
    "duration": 7,
    "start_time": "2025-01-23T08:38:00.884Z"
   },
   {
    "duration": 44,
    "start_time": "2025-01-23T08:38:11.419Z"
   },
   {
    "duration": 298,
    "start_time": "2025-01-23T08:38:18.759Z"
   },
   {
    "duration": 18,
    "start_time": "2025-01-23T08:38:27.400Z"
   },
   {
    "duration": 796,
    "start_time": "2025-01-23T08:38:48.391Z"
   },
   {
    "duration": 8,
    "start_time": "2025-01-23T08:38:49.189Z"
   },
   {
    "duration": 45,
    "start_time": "2025-01-23T08:38:49.198Z"
   },
   {
    "duration": 306,
    "start_time": "2025-01-23T08:38:49.246Z"
   },
   {
    "duration": 14,
    "start_time": "2025-01-23T08:38:49.554Z"
   },
   {
    "duration": 13,
    "start_time": "2025-01-23T08:46:47.448Z"
   },
   {
    "duration": 51,
    "start_time": "2025-01-23T08:47:39.447Z"
   },
   {
    "duration": 358,
    "start_time": "2025-01-23T08:48:17.239Z"
   },
   {
    "duration": 19,
    "start_time": "2025-01-23T08:48:34.711Z"
   },
   {
    "duration": 2592,
    "start_time": "2025-01-23T20:10:30.880Z"
   },
   {
    "duration": 19,
    "start_time": "2025-01-23T20:10:33.474Z"
   },
   {
    "duration": 77,
    "start_time": "2025-01-23T20:10:33.494Z"
   },
   {
    "duration": 357,
    "start_time": "2025-01-23T20:10:33.574Z"
   },
   {
    "duration": 30,
    "start_time": "2025-01-23T20:10:33.932Z"
   },
   {
    "duration": 548,
    "start_time": "2025-01-23T20:11:52.920Z"
   },
   {
    "duration": 378,
    "start_time": "2025-01-23T20:12:12.255Z"
   },
   {
    "duration": 12,
    "start_time": "2025-01-23T20:17:56.667Z"
   },
   {
    "duration": 10,
    "start_time": "2025-01-23T20:22:26.595Z"
   },
   {
    "duration": 10,
    "start_time": "2025-01-23T20:24:27.357Z"
   },
   {
    "duration": 16,
    "start_time": "2025-01-23T20:25:41.946Z"
   },
   {
    "duration": 10,
    "start_time": "2025-01-23T21:22:10.308Z"
   },
   {
    "duration": 16,
    "start_time": "2025-01-23T21:22:22.816Z"
   },
   {
    "duration": 20,
    "start_time": "2025-01-23T21:23:10.530Z"
   },
   {
    "duration": 20,
    "start_time": "2025-01-23T21:23:17.528Z"
   },
   {
    "duration": 42,
    "start_time": "2025-01-23T21:33:32.487Z"
   },
   {
    "duration": 14,
    "start_time": "2025-01-23T21:34:37.548Z"
   },
   {
    "duration": 93,
    "start_time": "2025-01-23T21:34:45.549Z"
   },
   {
    "duration": 11,
    "start_time": "2025-01-23T21:35:37.550Z"
   },
   {
    "duration": 163,
    "start_time": "2025-01-23T21:37:44.030Z"
   },
   {
    "duration": 36,
    "start_time": "2025-01-23T21:38:53.092Z"
   },
   {
    "duration": 116,
    "start_time": "2025-01-23T21:39:23.607Z"
   },
   {
    "duration": 25,
    "start_time": "2025-01-23T21:42:21.804Z"
   },
   {
    "duration": 41,
    "start_time": "2025-01-23T21:44:37.857Z"
   },
   {
    "duration": 838,
    "start_time": "2025-01-23T22:00:23.505Z"
   },
   {
    "duration": 343,
    "start_time": "2025-01-23T22:00:24.345Z"
   },
   {
    "duration": 12,
    "start_time": "2025-01-23T22:00:24.690Z"
   },
   {
    "duration": 11,
    "start_time": "2025-01-23T22:00:24.705Z"
   },
   {
    "duration": 16,
    "start_time": "2025-01-23T22:00:24.718Z"
   },
   {
    "duration": 43,
    "start_time": "2025-01-23T22:00:24.736Z"
   },
   {
    "duration": 42,
    "start_time": "2025-01-23T22:00:24.781Z"
   },
   {
    "duration": 112,
    "start_time": "2025-01-23T22:00:24.825Z"
   },
   {
    "duration": 10,
    "start_time": "2025-01-23T22:00:24.939Z"
   },
   {
    "duration": 36,
    "start_time": "2025-01-23T22:00:24.969Z"
   },
   {
    "duration": 136,
    "start_time": "2025-01-23T22:00:25.007Z"
   },
   {
    "duration": 51,
    "start_time": "2025-01-23T22:00:25.145Z"
   },
   {
    "duration": 261,
    "start_time": "2025-01-23T22:24:48.619Z"
   },
   {
    "duration": 35,
    "start_time": "2025-01-23T22:25:00.519Z"
   },
   {
    "duration": 52,
    "start_time": "2025-01-23T22:25:07.206Z"
   },
   {
    "duration": 19,
    "start_time": "2025-01-23T22:34:07.644Z"
   },
   {
    "duration": 15,
    "start_time": "2025-01-23T22:34:47.864Z"
   },
   {
    "duration": 33,
    "start_time": "2025-01-23T22:38:25.445Z"
   },
   {
    "duration": 48,
    "start_time": "2025-01-23T22:38:34.559Z"
   },
   {
    "duration": 64,
    "start_time": "2025-01-23T22:38:57.190Z"
   },
   {
    "duration": 54,
    "start_time": "2025-01-23T22:39:04.317Z"
   },
   {
    "duration": 2659,
    "start_time": "2025-01-24T00:36:53.613Z"
   },
   {
    "duration": 402,
    "start_time": "2025-01-24T00:36:56.274Z"
   },
   {
    "duration": 12,
    "start_time": "2025-01-24T00:36:56.678Z"
   },
   {
    "duration": 9,
    "start_time": "2025-01-24T00:36:56.692Z"
   },
   {
    "duration": 29,
    "start_time": "2025-01-24T00:36:56.703Z"
   },
   {
    "duration": 20,
    "start_time": "2025-01-24T00:36:56.733Z"
   },
   {
    "duration": 45,
    "start_time": "2025-01-24T00:36:56.754Z"
   },
   {
    "duration": 112,
    "start_time": "2025-01-24T00:36:56.800Z"
   },
   {
    "duration": 17,
    "start_time": "2025-01-24T00:36:56.914Z"
   },
   {
    "duration": 36,
    "start_time": "2025-01-24T00:36:56.934Z"
   },
   {
    "duration": 162,
    "start_time": "2025-01-24T00:36:56.972Z"
   },
   {
    "duration": 47,
    "start_time": "2025-01-24T00:36:57.135Z"
   },
   {
    "duration": 68,
    "start_time": "2025-01-24T00:36:57.184Z"
   },
   {
    "duration": 21,
    "start_time": "2025-01-24T00:36:57.254Z"
   },
   {
    "duration": 11,
    "start_time": "2025-01-24T00:36:57.276Z"
   },
   {
    "duration": 73,
    "start_time": "2025-01-24T00:36:57.288Z"
   },
   {
    "duration": 10,
    "start_time": "2025-01-24T00:38:02.458Z"
   },
   {
    "duration": 9,
    "start_time": "2025-01-24T00:39:18.708Z"
   },
   {
    "duration": 162,
    "start_time": "2025-01-24T00:41:31.555Z"
   },
   {
    "duration": 282,
    "start_time": "2025-01-24T01:13:40.467Z"
   },
   {
    "duration": 79,
    "start_time": "2025-01-24T01:13:46.556Z"
   },
   {
    "duration": 6,
    "start_time": "2025-01-24T01:23:59.140Z"
   },
   {
    "duration": 16,
    "start_time": "2025-01-24T01:24:00.574Z"
   },
   {
    "duration": 335,
    "start_time": "2025-01-24T01:24:14.964Z"
   },
   {
    "duration": 2752,
    "start_time": "2025-01-25T03:25:34.331Z"
   },
   {
    "duration": 457,
    "start_time": "2025-01-25T03:25:37.085Z"
   },
   {
    "duration": 12,
    "start_time": "2025-01-25T03:25:37.543Z"
   },
   {
    "duration": 10,
    "start_time": "2025-01-25T03:25:37.557Z"
   },
   {
    "duration": 16,
    "start_time": "2025-01-25T03:25:37.569Z"
   },
   {
    "duration": 34,
    "start_time": "2025-01-25T03:25:37.586Z"
   },
   {
    "duration": 47,
    "start_time": "2025-01-25T03:25:37.622Z"
   },
   {
    "duration": 119,
    "start_time": "2025-01-25T03:25:37.671Z"
   },
   {
    "duration": 25,
    "start_time": "2025-01-25T03:25:37.792Z"
   },
   {
    "duration": 41,
    "start_time": "2025-01-25T03:25:37.821Z"
   },
   {
    "duration": 155,
    "start_time": "2025-01-25T03:25:37.864Z"
   },
   {
    "duration": 91,
    "start_time": "2025-01-25T03:25:38.021Z"
   },
   {
    "duration": 327,
    "start_time": "2025-01-25T03:25:38.115Z"
   },
   {
    "duration": 76,
    "start_time": "2025-01-25T03:25:38.445Z"
   },
   {
    "duration": 74,
    "start_time": "2025-01-25T03:25:38.523Z"
   },
   {
    "duration": 23,
    "start_time": "2025-01-25T03:25:38.610Z"
   },
   {
    "duration": 10,
    "start_time": "2025-01-25T03:25:38.636Z"
   },
   {
    "duration": 81,
    "start_time": "2025-01-25T03:25:38.647Z"
   },
   {
    "duration": 9,
    "start_time": "2025-01-25T03:25:38.730Z"
   },
   {
    "duration": 9,
    "start_time": "2025-01-25T03:25:38.741Z"
   },
   {
    "duration": 163,
    "start_time": "2025-01-25T03:25:38.752Z"
   },
   {
    "duration": 247,
    "start_time": "2025-01-25T04:53:30.801Z"
   },
   {
    "duration": 209,
    "start_time": "2025-01-25T04:53:41.088Z"
   },
   {
    "duration": 10,
    "start_time": "2025-01-25T05:05:19.025Z"
   },
   {
    "duration": 59,
    "start_time": "2025-01-25T05:06:23.023Z"
   },
   {
    "duration": 29,
    "start_time": "2025-01-25T05:07:13.390Z"
   },
   {
    "duration": 40,
    "start_time": "2025-01-25T05:07:30.081Z"
   },
   {
    "duration": 39,
    "start_time": "2025-01-25T05:09:51.191Z"
   },
   {
    "duration": 31,
    "start_time": "2025-01-25T05:11:19.039Z"
   },
   {
    "duration": 14,
    "start_time": "2025-01-25T05:11:45.218Z"
   },
   {
    "duration": 33,
    "start_time": "2025-01-25T05:12:40.206Z"
   },
   {
    "duration": 2573,
    "start_time": "2025-01-25T08:00:26.645Z"
   },
   {
    "duration": 415,
    "start_time": "2025-01-25T08:00:29.220Z"
   },
   {
    "duration": 11,
    "start_time": "2025-01-25T08:00:29.637Z"
   },
   {
    "duration": 9,
    "start_time": "2025-01-25T08:00:29.650Z"
   },
   {
    "duration": 14,
    "start_time": "2025-01-25T08:00:29.661Z"
   },
   {
    "duration": 17,
    "start_time": "2025-01-25T08:00:29.678Z"
   },
   {
    "duration": 44,
    "start_time": "2025-01-25T08:00:29.708Z"
   },
   {
    "duration": 114,
    "start_time": "2025-01-25T08:00:29.757Z"
   },
   {
    "duration": 10,
    "start_time": "2025-01-25T08:00:29.872Z"
   },
   {
    "duration": 177,
    "start_time": "2025-01-25T08:00:29.885Z"
   },
   {
    "duration": 9,
    "start_time": "2025-01-25T08:00:30.063Z"
   },
   {
    "duration": 230,
    "start_time": "2025-01-25T08:00:30.075Z"
   },
   {
    "duration": 0,
    "start_time": "2025-01-25T08:00:30.309Z"
   },
   {
    "duration": 0,
    "start_time": "2025-01-25T08:00:30.310Z"
   },
   {
    "duration": 0,
    "start_time": "2025-01-25T08:00:30.312Z"
   },
   {
    "duration": 0,
    "start_time": "2025-01-25T08:00:30.313Z"
   },
   {
    "duration": 0,
    "start_time": "2025-01-25T08:00:30.314Z"
   },
   {
    "duration": 0,
    "start_time": "2025-01-25T08:00:30.316Z"
   },
   {
    "duration": 0,
    "start_time": "2025-01-25T08:00:30.317Z"
   },
   {
    "duration": 0,
    "start_time": "2025-01-25T08:00:30.319Z"
   },
   {
    "duration": 0,
    "start_time": "2025-01-25T08:00:30.321Z"
   },
   {
    "duration": 0,
    "start_time": "2025-01-25T08:00:30.322Z"
   },
   {
    "duration": 0,
    "start_time": "2025-01-25T08:00:30.324Z"
   },
   {
    "duration": 0,
    "start_time": "2025-01-25T08:00:30.325Z"
   },
   {
    "duration": 0,
    "start_time": "2025-01-25T08:00:30.327Z"
   },
   {
    "duration": 0,
    "start_time": "2025-01-25T08:00:30.328Z"
   },
   {
    "duration": 34,
    "start_time": "2025-01-25T08:02:01.430Z"
   },
   {
    "duration": 85,
    "start_time": "2025-01-25T08:02:14.288Z"
   },
   {
    "duration": 47,
    "start_time": "2025-01-25T08:02:26.030Z"
   },
   {
    "duration": 44,
    "start_time": "2025-01-25T08:02:49.061Z"
   },
   {
    "duration": 44,
    "start_time": "2025-01-25T08:02:57.107Z"
   },
   {
    "duration": 43,
    "start_time": "2025-01-25T08:03:05.171Z"
   },
   {
    "duration": 11,
    "start_time": "2025-01-25T08:03:12.489Z"
   },
   {
    "duration": 49,
    "start_time": "2025-01-25T08:10:38.628Z"
   },
   {
    "duration": 43,
    "start_time": "2025-01-25T08:11:01.510Z"
   },
   {
    "duration": 50,
    "start_time": "2025-01-25T08:11:16.613Z"
   },
   {
    "duration": 6,
    "start_time": "2025-01-25T08:11:29.656Z"
   },
   {
    "duration": 52,
    "start_time": "2025-01-25T08:11:38.369Z"
   },
   {
    "duration": 30,
    "start_time": "2025-01-25T08:13:35.188Z"
   },
   {
    "duration": 47,
    "start_time": "2025-01-25T08:13:41.838Z"
   },
   {
    "duration": 54,
    "start_time": "2025-01-25T08:14:40.104Z"
   },
   {
    "duration": 20,
    "start_time": "2025-01-25T08:15:15.269Z"
   },
   {
    "duration": 168,
    "start_time": "2025-01-25T08:19:03.390Z"
   },
   {
    "duration": 168,
    "start_time": "2025-01-25T09:02:54.749Z"
   },
   {
    "duration": 2527,
    "start_time": "2025-01-25T09:04:04.140Z"
   },
   {
    "duration": 406,
    "start_time": "2025-01-25T09:04:06.669Z"
   },
   {
    "duration": 12,
    "start_time": "2025-01-25T09:04:07.076Z"
   },
   {
    "duration": 10,
    "start_time": "2025-01-25T09:04:07.090Z"
   },
   {
    "duration": 14,
    "start_time": "2025-01-25T09:04:07.102Z"
   },
   {
    "duration": 30,
    "start_time": "2025-01-25T09:04:07.117Z"
   },
   {
    "duration": 42,
    "start_time": "2025-01-25T09:04:07.149Z"
   },
   {
    "duration": 108,
    "start_time": "2025-01-25T09:04:07.193Z"
   },
   {
    "duration": 10,
    "start_time": "2025-01-25T09:04:07.303Z"
   },
   {
    "duration": 229,
    "start_time": "2025-01-25T09:04:07.333Z"
   },
   {
    "duration": 0,
    "start_time": "2025-01-25T09:04:07.564Z"
   },
   {
    "duration": 0,
    "start_time": "2025-01-25T09:04:07.565Z"
   },
   {
    "duration": 0,
    "start_time": "2025-01-25T09:04:07.566Z"
   },
   {
    "duration": 0,
    "start_time": "2025-01-25T09:04:07.567Z"
   },
   {
    "duration": 0,
    "start_time": "2025-01-25T09:04:07.569Z"
   },
   {
    "duration": 0,
    "start_time": "2025-01-25T09:04:07.570Z"
   },
   {
    "duration": 0,
    "start_time": "2025-01-25T09:04:07.571Z"
   },
   {
    "duration": 0,
    "start_time": "2025-01-25T09:04:07.579Z"
   },
   {
    "duration": 0,
    "start_time": "2025-01-25T09:04:07.580Z"
   },
   {
    "duration": 0,
    "start_time": "2025-01-25T09:04:07.580Z"
   },
   {
    "duration": 0,
    "start_time": "2025-01-25T09:04:07.582Z"
   },
   {
    "duration": 0,
    "start_time": "2025-01-25T09:04:07.582Z"
   },
   {
    "duration": 0,
    "start_time": "2025-01-25T09:04:07.585Z"
   },
   {
    "duration": 0,
    "start_time": "2025-01-25T09:04:07.586Z"
   },
   {
    "duration": 0,
    "start_time": "2025-01-25T09:04:07.587Z"
   },
   {
    "duration": 0,
    "start_time": "2025-01-25T09:04:07.588Z"
   },
   {
    "duration": 0,
    "start_time": "2025-01-25T09:04:07.591Z"
   },
   {
    "duration": 0,
    "start_time": "2025-01-25T09:04:07.591Z"
   },
   {
    "duration": 0,
    "start_time": "2025-01-25T09:04:07.593Z"
   },
   {
    "duration": 0,
    "start_time": "2025-01-25T09:04:07.595Z"
   },
   {
    "duration": 38,
    "start_time": "2025-01-25T09:04:24.891Z"
   },
   {
    "duration": 34,
    "start_time": "2025-01-25T09:04:34.183Z"
   },
   {
    "duration": 13,
    "start_time": "2025-01-25T09:05:12.450Z"
   },
   {
    "duration": 5,
    "start_time": "2025-01-25T09:07:38.182Z"
   },
   {
    "duration": 4,
    "start_time": "2025-01-25T09:07:54.001Z"
   },
   {
    "duration": 4,
    "start_time": "2025-01-25T09:08:07.245Z"
   },
   {
    "duration": 4,
    "start_time": "2025-01-25T09:08:19.027Z"
   },
   {
    "duration": 5,
    "start_time": "2025-01-25T09:08:30.799Z"
   },
   {
    "duration": 5,
    "start_time": "2025-01-25T09:08:56.507Z"
   },
   {
    "duration": 4,
    "start_time": "2025-01-25T09:09:32.398Z"
   },
   {
    "duration": 825,
    "start_time": "2025-01-25T09:09:47.299Z"
   },
   {
    "duration": 358,
    "start_time": "2025-01-25T09:09:48.126Z"
   },
   {
    "duration": 12,
    "start_time": "2025-01-25T09:09:48.485Z"
   },
   {
    "duration": 10,
    "start_time": "2025-01-25T09:09:48.499Z"
   },
   {
    "duration": 34,
    "start_time": "2025-01-25T09:09:48.510Z"
   },
   {
    "duration": 19,
    "start_time": "2025-01-25T09:09:48.546Z"
   },
   {
    "duration": 44,
    "start_time": "2025-01-25T09:09:48.567Z"
   },
   {
    "duration": 107,
    "start_time": "2025-01-25T09:09:48.631Z"
   },
   {
    "duration": 11,
    "start_time": "2025-01-25T09:09:48.740Z"
   },
   {
    "duration": 4,
    "start_time": "2025-01-25T09:09:48.755Z"
   },
   {
    "duration": 0,
    "start_time": "2025-01-25T09:09:48.761Z"
   },
   {
    "duration": 0,
    "start_time": "2025-01-25T09:09:48.762Z"
   },
   {
    "duration": 0,
    "start_time": "2025-01-25T09:09:48.763Z"
   },
   {
    "duration": 0,
    "start_time": "2025-01-25T09:09:48.764Z"
   },
   {
    "duration": 0,
    "start_time": "2025-01-25T09:09:48.765Z"
   },
   {
    "duration": 0,
    "start_time": "2025-01-25T09:09:48.766Z"
   },
   {
    "duration": 0,
    "start_time": "2025-01-25T09:09:48.767Z"
   },
   {
    "duration": 0,
    "start_time": "2025-01-25T09:09:48.767Z"
   },
   {
    "duration": 0,
    "start_time": "2025-01-25T09:09:48.769Z"
   },
   {
    "duration": 0,
    "start_time": "2025-01-25T09:09:48.770Z"
   },
   {
    "duration": 0,
    "start_time": "2025-01-25T09:09:48.770Z"
   },
   {
    "duration": 0,
    "start_time": "2025-01-25T09:09:48.771Z"
   },
   {
    "duration": 0,
    "start_time": "2025-01-25T09:09:48.772Z"
   },
   {
    "duration": 0,
    "start_time": "2025-01-25T09:09:48.773Z"
   },
   {
    "duration": 0,
    "start_time": "2025-01-25T09:09:48.774Z"
   },
   {
    "duration": 0,
    "start_time": "2025-01-25T09:09:48.778Z"
   },
   {
    "duration": 0,
    "start_time": "2025-01-25T09:09:48.779Z"
   },
   {
    "duration": 0,
    "start_time": "2025-01-25T09:09:48.780Z"
   },
   {
    "duration": 0,
    "start_time": "2025-01-25T09:09:48.781Z"
   },
   {
    "duration": 0,
    "start_time": "2025-01-25T09:09:48.832Z"
   },
   {
    "duration": 4,
    "start_time": "2025-01-25T09:10:29.642Z"
   },
   {
    "duration": 4,
    "start_time": "2025-01-25T09:10:58.431Z"
   },
   {
    "duration": 4,
    "start_time": "2025-01-25T09:11:34.909Z"
   },
   {
    "duration": 4,
    "start_time": "2025-01-25T09:11:43.026Z"
   },
   {
    "duration": 3,
    "start_time": "2025-01-25T09:14:16.103Z"
   },
   {
    "duration": 5,
    "start_time": "2025-01-25T09:14:27.701Z"
   },
   {
    "duration": 15,
    "start_time": "2025-01-25T09:14:52.197Z"
   },
   {
    "duration": 12,
    "start_time": "2025-01-25T09:15:12.861Z"
   },
   {
    "duration": 327,
    "start_time": "2025-01-25T09:17:55.871Z"
   },
   {
    "duration": 131,
    "start_time": "2025-01-25T09:18:03.513Z"
   },
   {
    "duration": 3,
    "start_time": "2025-01-25T09:20:11.792Z"
   },
   {
    "duration": 8,
    "start_time": "2025-01-25T09:20:17.628Z"
   },
   {
    "duration": 17,
    "start_time": "2025-01-25T09:23:55.194Z"
   },
   {
    "duration": 7,
    "start_time": "2025-01-25T09:24:11.114Z"
   },
   {
    "duration": 20,
    "start_time": "2025-01-25T09:28:27.409Z"
   },
   {
    "duration": 20,
    "start_time": "2025-01-25T09:28:34.456Z"
   },
   {
    "duration": 8,
    "start_time": "2025-01-25T09:28:47.980Z"
   },
   {
    "duration": 3,
    "start_time": "2025-01-25T09:29:28.026Z"
   },
   {
    "duration": 21,
    "start_time": "2025-01-25T09:29:51.402Z"
   },
   {
    "duration": 3,
    "start_time": "2025-01-25T09:30:19.564Z"
   },
   {
    "duration": 7,
    "start_time": "2025-01-25T09:30:24.962Z"
   },
   {
    "duration": 832,
    "start_time": "2025-01-25T09:30:43.684Z"
   },
   {
    "duration": 346,
    "start_time": "2025-01-25T09:30:44.518Z"
   },
   {
    "duration": 12,
    "start_time": "2025-01-25T09:30:44.866Z"
   },
   {
    "duration": 10,
    "start_time": "2025-01-25T09:30:44.880Z"
   },
   {
    "duration": 15,
    "start_time": "2025-01-25T09:30:44.892Z"
   },
   {
    "duration": 38,
    "start_time": "2025-01-25T09:30:44.909Z"
   },
   {
    "duration": 45,
    "start_time": "2025-01-25T09:30:44.948Z"
   },
   {
    "duration": 111,
    "start_time": "2025-01-25T09:30:44.995Z"
   },
   {
    "duration": 23,
    "start_time": "2025-01-25T09:30:45.108Z"
   },
   {
    "duration": 19,
    "start_time": "2025-01-25T09:30:45.134Z"
   },
   {
    "duration": 11,
    "start_time": "2025-01-25T09:30:45.155Z"
   },
   {
    "duration": 166,
    "start_time": "2025-01-25T09:30:45.168Z"
   },
   {
    "duration": 17,
    "start_time": "2025-01-25T09:30:45.336Z"
   },
   {
    "duration": 7,
    "start_time": "2025-01-25T09:30:45.355Z"
   },
   {
    "duration": 14,
    "start_time": "2025-01-25T09:30:45.364Z"
   },
   {
    "duration": 8,
    "start_time": "2025-01-25T09:30:45.380Z"
   },
   {
    "duration": 4,
    "start_time": "2025-01-25T09:30:45.389Z"
   },
   {
    "duration": 148,
    "start_time": "2025-01-25T09:30:45.395Z"
   },
   {
    "duration": 8,
    "start_time": "2025-01-25T09:30:45.545Z"
   },
   {
    "duration": 49,
    "start_time": "2025-01-25T09:30:45.555Z"
   },
   {
    "duration": 26,
    "start_time": "2025-01-25T09:30:45.606Z"
   },
   {
    "duration": 48,
    "start_time": "2025-01-25T09:30:45.634Z"
   },
   {
    "duration": 17,
    "start_time": "2025-01-25T09:30:45.684Z"
   },
   {
    "duration": 297,
    "start_time": "2025-01-25T09:30:45.703Z"
   },
   {
    "duration": 0,
    "start_time": "2025-01-25T09:30:46.003Z"
   },
   {
    "duration": 0,
    "start_time": "2025-01-25T09:30:46.003Z"
   },
   {
    "duration": 0,
    "start_time": "2025-01-25T09:30:46.004Z"
   },
   {
    "duration": 0,
    "start_time": "2025-01-25T09:30:46.005Z"
   },
   {
    "duration": 0,
    "start_time": "2025-01-25T09:30:46.006Z"
   },
   {
    "duration": 0,
    "start_time": "2025-01-25T09:30:46.007Z"
   },
   {
    "duration": 0,
    "start_time": "2025-01-25T09:30:46.008Z"
   },
   {
    "duration": 0,
    "start_time": "2025-01-25T09:30:46.009Z"
   },
   {
    "duration": 0,
    "start_time": "2025-01-25T09:30:46.010Z"
   },
   {
    "duration": 0,
    "start_time": "2025-01-25T09:30:46.011Z"
   },
   {
    "duration": 0,
    "start_time": "2025-01-25T09:30:46.012Z"
   },
   {
    "duration": 0,
    "start_time": "2025-01-25T09:30:46.013Z"
   },
   {
    "duration": 0,
    "start_time": "2025-01-25T09:30:46.032Z"
   },
   {
    "duration": 851,
    "start_time": "2025-01-25T09:33:22.065Z"
   },
   {
    "duration": 344,
    "start_time": "2025-01-25T09:33:22.918Z"
   },
   {
    "duration": 11,
    "start_time": "2025-01-25T09:33:23.264Z"
   },
   {
    "duration": 10,
    "start_time": "2025-01-25T09:33:23.276Z"
   },
   {
    "duration": 14,
    "start_time": "2025-01-25T09:33:23.289Z"
   },
   {
    "duration": 44,
    "start_time": "2025-01-25T09:33:23.304Z"
   },
   {
    "duration": 43,
    "start_time": "2025-01-25T09:33:23.350Z"
   },
   {
    "duration": 107,
    "start_time": "2025-01-25T09:33:23.395Z"
   },
   {
    "duration": 11,
    "start_time": "2025-01-25T09:33:23.504Z"
   },
   {
    "duration": 16,
    "start_time": "2025-01-25T09:33:23.531Z"
   },
   {
    "duration": 152,
    "start_time": "2025-01-25T09:33:23.549Z"
   },
   {
    "duration": 17,
    "start_time": "2025-01-25T09:33:23.703Z"
   },
   {
    "duration": 12,
    "start_time": "2025-01-25T09:33:23.732Z"
   },
   {
    "duration": 3,
    "start_time": "2025-01-25T09:33:23.748Z"
   },
   {
    "duration": 115,
    "start_time": "2025-01-25T09:33:23.753Z"
   },
   {
    "duration": 7,
    "start_time": "2025-01-25T09:33:23.870Z"
   },
   {
    "duration": 66,
    "start_time": "2025-01-25T09:33:23.879Z"
   },
   {
    "duration": 10,
    "start_time": "2025-01-25T09:33:23.947Z"
   },
   {
    "duration": 73,
    "start_time": "2025-01-25T09:33:23.959Z"
   },
   {
    "duration": 20,
    "start_time": "2025-01-25T09:33:24.034Z"
   },
   {
    "duration": 308,
    "start_time": "2025-01-25T09:33:24.055Z"
   },
   {
    "duration": 0,
    "start_time": "2025-01-25T09:33:24.365Z"
   },
   {
    "duration": 0,
    "start_time": "2025-01-25T09:33:24.366Z"
   },
   {
    "duration": 0,
    "start_time": "2025-01-25T09:33:24.367Z"
   },
   {
    "duration": 0,
    "start_time": "2025-01-25T09:33:24.368Z"
   },
   {
    "duration": 0,
    "start_time": "2025-01-25T09:33:24.369Z"
   },
   {
    "duration": 0,
    "start_time": "2025-01-25T09:33:24.370Z"
   },
   {
    "duration": 0,
    "start_time": "2025-01-25T09:33:24.371Z"
   },
   {
    "duration": 0,
    "start_time": "2025-01-25T09:33:24.373Z"
   },
   {
    "duration": 0,
    "start_time": "2025-01-25T09:33:24.374Z"
   },
   {
    "duration": 0,
    "start_time": "2025-01-25T09:33:24.375Z"
   },
   {
    "duration": 0,
    "start_time": "2025-01-25T09:33:24.377Z"
   },
   {
    "duration": 0,
    "start_time": "2025-01-25T09:33:24.379Z"
   },
   {
    "duration": 0,
    "start_time": "2025-01-25T09:33:24.380Z"
   },
   {
    "duration": 16,
    "start_time": "2025-01-25T09:39:07.611Z"
   },
   {
    "duration": 39,
    "start_time": "2025-01-25T09:44:16.866Z"
   },
   {
    "duration": 16,
    "start_time": "2025-01-25T09:48:26.941Z"
   },
   {
    "duration": 41,
    "start_time": "2025-01-25T09:48:29.689Z"
   },
   {
    "duration": 837,
    "start_time": "2025-01-25T09:53:23.082Z"
   },
   {
    "duration": 345,
    "start_time": "2025-01-25T09:53:23.922Z"
   },
   {
    "duration": 11,
    "start_time": "2025-01-25T09:53:24.268Z"
   },
   {
    "duration": 9,
    "start_time": "2025-01-25T09:53:24.282Z"
   },
   {
    "duration": 15,
    "start_time": "2025-01-25T09:53:24.292Z"
   },
   {
    "duration": 32,
    "start_time": "2025-01-25T09:53:24.309Z"
   },
   {
    "duration": 43,
    "start_time": "2025-01-25T09:53:24.343Z"
   },
   {
    "duration": 114,
    "start_time": "2025-01-25T09:53:24.388Z"
   },
   {
    "duration": 11,
    "start_time": "2025-01-25T09:53:24.503Z"
   },
   {
    "duration": 17,
    "start_time": "2025-01-25T09:53:24.530Z"
   },
   {
    "duration": 153,
    "start_time": "2025-01-25T09:53:24.549Z"
   },
   {
    "duration": 28,
    "start_time": "2025-01-25T09:53:24.704Z"
   },
   {
    "duration": 14,
    "start_time": "2025-01-25T09:53:24.733Z"
   },
   {
    "duration": 3,
    "start_time": "2025-01-25T09:53:24.749Z"
   },
   {
    "duration": 17,
    "start_time": "2025-01-25T09:53:24.754Z"
   },
   {
    "duration": 70,
    "start_time": "2025-01-25T09:53:24.772Z"
   },
   {
    "duration": 289,
    "start_time": "2025-01-25T09:53:24.843Z"
   },
   {
    "duration": 0,
    "start_time": "2025-01-25T09:53:25.135Z"
   },
   {
    "duration": 0,
    "start_time": "2025-01-25T09:53:25.136Z"
   },
   {
    "duration": 0,
    "start_time": "2025-01-25T09:53:25.138Z"
   },
   {
    "duration": 0,
    "start_time": "2025-01-25T09:53:25.139Z"
   },
   {
    "duration": 0,
    "start_time": "2025-01-25T09:53:25.141Z"
   },
   {
    "duration": 0,
    "start_time": "2025-01-25T09:53:25.142Z"
   },
   {
    "duration": 0,
    "start_time": "2025-01-25T09:53:25.144Z"
   },
   {
    "duration": 0,
    "start_time": "2025-01-25T09:53:25.145Z"
   },
   {
    "duration": 0,
    "start_time": "2025-01-25T09:53:25.146Z"
   },
   {
    "duration": 0,
    "start_time": "2025-01-25T09:53:25.147Z"
   },
   {
    "duration": 0,
    "start_time": "2025-01-25T09:53:25.148Z"
   },
   {
    "duration": 0,
    "start_time": "2025-01-25T09:53:25.149Z"
   },
   {
    "duration": 0,
    "start_time": "2025-01-25T09:53:25.150Z"
   },
   {
    "duration": 0,
    "start_time": "2025-01-25T09:53:25.151Z"
   },
   {
    "duration": 0,
    "start_time": "2025-01-25T09:53:25.153Z"
   },
   {
    "duration": 0,
    "start_time": "2025-01-25T09:53:25.154Z"
   },
   {
    "duration": 0,
    "start_time": "2025-01-25T09:53:25.155Z"
   },
   {
    "duration": 0,
    "start_time": "2025-01-25T09:53:25.157Z"
   },
   {
    "duration": 0,
    "start_time": "2025-01-25T09:53:25.159Z"
   },
   {
    "duration": 0,
    "start_time": "2025-01-25T09:53:25.160Z"
   },
   {
    "duration": 2956,
    "start_time": "2025-01-26T07:22:33.128Z"
   },
   {
    "duration": 458,
    "start_time": "2025-01-26T07:22:36.087Z"
   },
   {
    "duration": 13,
    "start_time": "2025-01-26T07:22:36.547Z"
   },
   {
    "duration": 11,
    "start_time": "2025-01-26T07:22:36.562Z"
   },
   {
    "duration": 15,
    "start_time": "2025-01-26T07:22:36.576Z"
   },
   {
    "duration": 40,
    "start_time": "2025-01-26T07:22:36.592Z"
   },
   {
    "duration": 47,
    "start_time": "2025-01-26T07:22:36.635Z"
   },
   {
    "duration": 128,
    "start_time": "2025-01-26T07:22:36.684Z"
   },
   {
    "duration": 12,
    "start_time": "2025-01-26T07:22:36.814Z"
   },
   {
    "duration": 21,
    "start_time": "2025-01-26T07:22:36.828Z"
   },
   {
    "duration": 227,
    "start_time": "2025-01-26T07:22:36.851Z"
   },
   {
    "duration": 18,
    "start_time": "2025-01-26T07:22:37.080Z"
   },
   {
    "duration": 25,
    "start_time": "2025-01-26T07:22:37.099Z"
   },
   {
    "duration": 3,
    "start_time": "2025-01-26T07:22:37.128Z"
   },
   {
    "duration": 17,
    "start_time": "2025-01-26T07:22:37.133Z"
   },
   {
    "duration": 98,
    "start_time": "2025-01-26T07:22:37.152Z"
   },
   {
    "duration": 250,
    "start_time": "2025-01-26T07:22:37.252Z"
   },
   {
    "duration": 0,
    "start_time": "2025-01-26T07:22:37.504Z"
   },
   {
    "duration": 0,
    "start_time": "2025-01-26T07:22:37.511Z"
   },
   {
    "duration": 0,
    "start_time": "2025-01-26T07:22:37.512Z"
   },
   {
    "duration": 0,
    "start_time": "2025-01-26T07:22:37.514Z"
   },
   {
    "duration": 0,
    "start_time": "2025-01-26T07:22:37.516Z"
   },
   {
    "duration": 0,
    "start_time": "2025-01-26T07:22:37.517Z"
   },
   {
    "duration": 0,
    "start_time": "2025-01-26T07:22:37.518Z"
   },
   {
    "duration": 0,
    "start_time": "2025-01-26T07:22:37.519Z"
   },
   {
    "duration": 0,
    "start_time": "2025-01-26T07:22:37.520Z"
   },
   {
    "duration": 0,
    "start_time": "2025-01-26T07:22:37.521Z"
   },
   {
    "duration": 0,
    "start_time": "2025-01-26T07:22:37.523Z"
   },
   {
    "duration": 0,
    "start_time": "2025-01-26T07:22:37.524Z"
   },
   {
    "duration": 0,
    "start_time": "2025-01-26T07:22:37.525Z"
   },
   {
    "duration": 0,
    "start_time": "2025-01-26T07:22:37.526Z"
   },
   {
    "duration": 0,
    "start_time": "2025-01-26T07:22:37.528Z"
   },
   {
    "duration": 0,
    "start_time": "2025-01-26T07:22:37.529Z"
   },
   {
    "duration": 0,
    "start_time": "2025-01-26T07:22:37.530Z"
   },
   {
    "duration": 0,
    "start_time": "2025-01-26T07:22:37.531Z"
   },
   {
    "duration": 0,
    "start_time": "2025-01-26T07:22:37.532Z"
   },
   {
    "duration": 0,
    "start_time": "2025-01-26T07:22:37.533Z"
   },
   {
    "duration": 18,
    "start_time": "2025-01-26T07:24:25.984Z"
   },
   {
    "duration": 20,
    "start_time": "2025-01-26T07:24:39.920Z"
   },
   {
    "duration": 16,
    "start_time": "2025-01-26T07:25:35.628Z"
   },
   {
    "duration": 11,
    "start_time": "2025-01-26T07:26:56.798Z"
   },
   {
    "duration": 3,
    "start_time": "2025-01-26T07:56:21.114Z"
   },
   {
    "duration": 3,
    "start_time": "2025-01-26T07:58:04.149Z"
   },
   {
    "duration": 19,
    "start_time": "2025-01-26T07:59:11.927Z"
   },
   {
    "duration": 866,
    "start_time": "2025-01-26T07:59:35.647Z"
   },
   {
    "duration": 347,
    "start_time": "2025-01-26T07:59:36.515Z"
   },
   {
    "duration": 265,
    "start_time": "2025-01-26T07:59:36.863Z"
   },
   {
    "duration": 2,
    "start_time": "2025-01-26T07:59:37.131Z"
   },
   {
    "duration": 350,
    "start_time": "2025-01-26T07:59:37.135Z"
   },
   {
    "duration": 11,
    "start_time": "2025-01-26T07:59:37.487Z"
   },
   {
    "duration": 19,
    "start_time": "2025-01-26T07:59:37.500Z"
   },
   {
    "duration": 18,
    "start_time": "2025-01-26T07:59:37.521Z"
   },
   {
    "duration": 19,
    "start_time": "2025-01-26T07:59:37.541Z"
   },
   {
    "duration": 75,
    "start_time": "2025-01-26T07:59:37.563Z"
   },
   {
    "duration": 101,
    "start_time": "2025-01-26T07:59:37.640Z"
   },
   {
    "duration": 10,
    "start_time": "2025-01-26T07:59:37.743Z"
   },
   {
    "duration": 16,
    "start_time": "2025-01-26T07:59:37.754Z"
   },
   {
    "duration": 190,
    "start_time": "2025-01-26T07:59:37.771Z"
   },
   {
    "duration": 11,
    "start_time": "2025-01-26T07:59:37.963Z"
   },
   {
    "duration": 36,
    "start_time": "2025-01-26T07:59:37.976Z"
   },
   {
    "duration": 17,
    "start_time": "2025-01-26T07:59:38.015Z"
   },
   {
    "duration": 4,
    "start_time": "2025-01-26T07:59:38.034Z"
   },
   {
    "duration": 18,
    "start_time": "2025-01-26T07:59:38.041Z"
   },
   {
    "duration": 74,
    "start_time": "2025-01-26T07:59:38.061Z"
   },
   {
    "duration": 829,
    "start_time": "2025-01-26T07:59:38.137Z"
   },
   {
    "duration": 0,
    "start_time": "2025-01-26T07:59:38.969Z"
   },
   {
    "duration": 0,
    "start_time": "2025-01-26T07:59:38.970Z"
   },
   {
    "duration": 0,
    "start_time": "2025-01-26T07:59:38.971Z"
   },
   {
    "duration": 0,
    "start_time": "2025-01-26T07:59:38.972Z"
   },
   {
    "duration": 0,
    "start_time": "2025-01-26T07:59:38.974Z"
   },
   {
    "duration": 0,
    "start_time": "2025-01-26T07:59:38.976Z"
   },
   {
    "duration": 1,
    "start_time": "2025-01-26T07:59:38.977Z"
   },
   {
    "duration": 0,
    "start_time": "2025-01-26T07:59:38.979Z"
   },
   {
    "duration": 0,
    "start_time": "2025-01-26T07:59:38.980Z"
   },
   {
    "duration": 0,
    "start_time": "2025-01-26T07:59:38.982Z"
   },
   {
    "duration": 0,
    "start_time": "2025-01-26T07:59:38.984Z"
   },
   {
    "duration": 0,
    "start_time": "2025-01-26T07:59:38.985Z"
   },
   {
    "duration": 0,
    "start_time": "2025-01-26T07:59:39.013Z"
   },
   {
    "duration": 0,
    "start_time": "2025-01-26T07:59:39.015Z"
   },
   {
    "duration": 0,
    "start_time": "2025-01-26T07:59:39.017Z"
   },
   {
    "duration": 0,
    "start_time": "2025-01-26T07:59:39.019Z"
   },
   {
    "duration": 0,
    "start_time": "2025-01-26T07:59:39.020Z"
   },
   {
    "duration": 0,
    "start_time": "2025-01-26T07:59:39.022Z"
   },
   {
    "duration": 0,
    "start_time": "2025-01-26T07:59:39.023Z"
   },
   {
    "duration": 0,
    "start_time": "2025-01-26T07:59:39.025Z"
   },
   {
    "duration": 834,
    "start_time": "2025-01-26T08:00:35.583Z"
   },
   {
    "duration": 350,
    "start_time": "2025-01-26T08:00:36.419Z"
   },
   {
    "duration": 7,
    "start_time": "2025-01-26T08:00:36.770Z"
   },
   {
    "duration": 0,
    "start_time": "2025-01-26T08:00:36.780Z"
   },
   {
    "duration": 0,
    "start_time": "2025-01-26T08:00:36.781Z"
   },
   {
    "duration": 0,
    "start_time": "2025-01-26T08:00:36.783Z"
   },
   {
    "duration": 0,
    "start_time": "2025-01-26T08:00:36.784Z"
   },
   {
    "duration": 0,
    "start_time": "2025-01-26T08:00:36.786Z"
   },
   {
    "duration": 0,
    "start_time": "2025-01-26T08:00:36.787Z"
   },
   {
    "duration": 0,
    "start_time": "2025-01-26T08:00:36.788Z"
   },
   {
    "duration": 0,
    "start_time": "2025-01-26T08:00:36.790Z"
   },
   {
    "duration": 0,
    "start_time": "2025-01-26T08:00:36.811Z"
   },
   {
    "duration": 0,
    "start_time": "2025-01-26T08:00:36.812Z"
   },
   {
    "duration": 0,
    "start_time": "2025-01-26T08:00:36.814Z"
   },
   {
    "duration": 0,
    "start_time": "2025-01-26T08:00:36.815Z"
   },
   {
    "duration": 0,
    "start_time": "2025-01-26T08:00:36.816Z"
   },
   {
    "duration": 0,
    "start_time": "2025-01-26T08:00:36.818Z"
   },
   {
    "duration": 0,
    "start_time": "2025-01-26T08:00:36.819Z"
   },
   {
    "duration": 0,
    "start_time": "2025-01-26T08:00:36.820Z"
   },
   {
    "duration": 0,
    "start_time": "2025-01-26T08:00:36.821Z"
   },
   {
    "duration": 0,
    "start_time": "2025-01-26T08:00:36.822Z"
   },
   {
    "duration": 0,
    "start_time": "2025-01-26T08:00:36.823Z"
   },
   {
    "duration": 0,
    "start_time": "2025-01-26T08:00:36.824Z"
   },
   {
    "duration": 0,
    "start_time": "2025-01-26T08:00:36.825Z"
   },
   {
    "duration": 0,
    "start_time": "2025-01-26T08:00:36.826Z"
   },
   {
    "duration": 0,
    "start_time": "2025-01-26T08:00:36.827Z"
   },
   {
    "duration": 0,
    "start_time": "2025-01-26T08:00:36.829Z"
   },
   {
    "duration": 0,
    "start_time": "2025-01-26T08:00:36.830Z"
   },
   {
    "duration": 0,
    "start_time": "2025-01-26T08:00:36.831Z"
   },
   {
    "duration": 0,
    "start_time": "2025-01-26T08:00:36.832Z"
   },
   {
    "duration": 0,
    "start_time": "2025-01-26T08:00:36.834Z"
   },
   {
    "duration": 0,
    "start_time": "2025-01-26T08:00:36.835Z"
   },
   {
    "duration": 0,
    "start_time": "2025-01-26T08:00:36.837Z"
   },
   {
    "duration": 0,
    "start_time": "2025-01-26T08:00:36.839Z"
   },
   {
    "duration": 0,
    "start_time": "2025-01-26T08:00:36.840Z"
   },
   {
    "duration": 0,
    "start_time": "2025-01-26T08:00:36.841Z"
   },
   {
    "duration": 0,
    "start_time": "2025-01-26T08:00:36.843Z"
   },
   {
    "duration": 0,
    "start_time": "2025-01-26T08:00:36.844Z"
   },
   {
    "duration": 0,
    "start_time": "2025-01-26T08:00:36.845Z"
   },
   {
    "duration": 0,
    "start_time": "2025-01-26T08:00:36.847Z"
   },
   {
    "duration": 0,
    "start_time": "2025-01-26T08:00:36.849Z"
   },
   {
    "duration": 242,
    "start_time": "2025-01-26T08:00:53.257Z"
   },
   {
    "duration": 233,
    "start_time": "2025-01-26T08:02:04.228Z"
   },
   {
    "duration": 6,
    "start_time": "2025-01-26T08:11:15.647Z"
   },
   {
    "duration": 4,
    "start_time": "2025-01-26T08:11:26.416Z"
   },
   {
    "duration": 38,
    "start_time": "2025-01-26T08:11:46.975Z"
   },
   {
    "duration": 28,
    "start_time": "2025-01-26T08:11:48.853Z"
   },
   {
    "duration": 32,
    "start_time": "2025-01-26T08:12:15.869Z"
   },
   {
    "duration": 80,
    "start_time": "2025-01-26T08:12:28.859Z"
   },
   {
    "duration": 38,
    "start_time": "2025-01-26T08:12:45.259Z"
   },
   {
    "duration": 227,
    "start_time": "2025-01-26T08:17:09.058Z"
   },
   {
    "duration": 18,
    "start_time": "2025-01-26T08:17:17.787Z"
   },
   {
    "duration": 29,
    "start_time": "2025-01-26T08:17:28.539Z"
   },
   {
    "duration": 13,
    "start_time": "2025-01-26T08:17:45.434Z"
   },
   {
    "duration": 27,
    "start_time": "2025-01-26T08:25:54.326Z"
   },
   {
    "duration": 361,
    "start_time": "2025-01-26T08:26:00.985Z"
   },
   {
    "duration": 11,
    "start_time": "2025-01-26T08:30:43.281Z"
   },
   {
    "duration": 19,
    "start_time": "2025-01-26T08:30:51.070Z"
   },
   {
    "duration": 22,
    "start_time": "2025-01-26T08:30:55.663Z"
   },
   {
    "duration": 13,
    "start_time": "2025-01-26T08:30:58.746Z"
   },
   {
    "duration": 80,
    "start_time": "2025-01-26T08:31:01.286Z"
   },
   {
    "duration": 79,
    "start_time": "2025-01-26T08:31:04.998Z"
   },
   {
    "duration": 18,
    "start_time": "2025-01-26T08:31:13.136Z"
   },
   {
    "duration": 20,
    "start_time": "2025-01-26T09:06:24.074Z"
   },
   {
    "duration": 13,
    "start_time": "2025-01-26T09:07:05.409Z"
   },
   {
    "duration": 3,
    "start_time": "2025-01-26T09:08:40.081Z"
   },
   {
    "duration": 12,
    "start_time": "2025-01-26T09:10:24.830Z"
   },
   {
    "duration": 62,
    "start_time": "2025-01-26T09:11:23.019Z"
   },
   {
    "duration": 840,
    "start_time": "2025-01-26T09:14:44.679Z"
   },
   {
    "duration": 377,
    "start_time": "2025-01-26T09:14:45.521Z"
   },
   {
    "duration": 268,
    "start_time": "2025-01-26T09:14:45.900Z"
   },
   {
    "duration": 11,
    "start_time": "2025-01-26T09:14:46.170Z"
   },
   {
    "duration": 34,
    "start_time": "2025-01-26T09:14:46.182Z"
   },
   {
    "duration": 38,
    "start_time": "2025-01-26T09:14:46.219Z"
   },
   {
    "duration": 12,
    "start_time": "2025-01-26T09:14:46.259Z"
   },
   {
    "duration": 46,
    "start_time": "2025-01-26T09:14:46.273Z"
   },
   {
    "duration": 355,
    "start_time": "2025-01-26T09:14:46.321Z"
   },
   {
    "duration": 32,
    "start_time": "2025-01-26T09:14:46.679Z"
   },
   {
    "duration": 16,
    "start_time": "2025-01-26T09:14:46.713Z"
   },
   {
    "duration": 4,
    "start_time": "2025-01-26T09:14:46.731Z"
   },
   {
    "duration": 12,
    "start_time": "2025-01-26T09:14:46.737Z"
   },
   {
    "duration": 3,
    "start_time": "2025-01-26T09:14:46.751Z"
   },
   {
    "duration": 390,
    "start_time": "2025-01-26T09:14:46.755Z"
   },
   {
    "duration": 10,
    "start_time": "2025-01-26T09:14:47.146Z"
   },
   {
    "duration": 11,
    "start_time": "2025-01-26T09:14:47.158Z"
   },
   {
    "duration": 18,
    "start_time": "2025-01-26T09:14:47.171Z"
   },
   {
    "duration": 49,
    "start_time": "2025-01-26T09:14:47.190Z"
   },
   {
    "duration": 78,
    "start_time": "2025-01-26T09:14:47.241Z"
   },
   {
    "duration": 112,
    "start_time": "2025-01-26T09:14:47.321Z"
   },
   {
    "duration": 11,
    "start_time": "2025-01-26T09:14:47.435Z"
   },
   {
    "duration": 17,
    "start_time": "2025-01-26T09:14:47.448Z"
   },
   {
    "duration": 205,
    "start_time": "2025-01-26T09:14:47.466Z"
   },
   {
    "duration": 10,
    "start_time": "2025-01-26T09:14:47.673Z"
   },
   {
    "duration": 29,
    "start_time": "2025-01-26T09:14:47.686Z"
   },
   {
    "duration": 13,
    "start_time": "2025-01-26T09:14:47.718Z"
   },
   {
    "duration": 4,
    "start_time": "2025-01-26T09:14:47.736Z"
   },
   {
    "duration": 18,
    "start_time": "2025-01-26T09:14:47.742Z"
   },
   {
    "duration": 83,
    "start_time": "2025-01-26T09:14:47.762Z"
   },
   {
    "duration": 796,
    "start_time": "2025-01-26T09:14:47.848Z"
   },
   {
    "duration": 0,
    "start_time": "2025-01-26T09:14:48.646Z"
   },
   {
    "duration": 0,
    "start_time": "2025-01-26T09:14:48.648Z"
   },
   {
    "duration": 0,
    "start_time": "2025-01-26T09:14:48.649Z"
   },
   {
    "duration": 0,
    "start_time": "2025-01-26T09:14:48.651Z"
   },
   {
    "duration": 0,
    "start_time": "2025-01-26T09:14:48.652Z"
   },
   {
    "duration": 0,
    "start_time": "2025-01-26T09:14:48.653Z"
   },
   {
    "duration": 0,
    "start_time": "2025-01-26T09:14:48.654Z"
   },
   {
    "duration": 1,
    "start_time": "2025-01-26T09:14:48.654Z"
   },
   {
    "duration": 0,
    "start_time": "2025-01-26T09:14:48.656Z"
   },
   {
    "duration": 0,
    "start_time": "2025-01-26T09:14:48.657Z"
   },
   {
    "duration": 0,
    "start_time": "2025-01-26T09:14:48.658Z"
   },
   {
    "duration": 0,
    "start_time": "2025-01-26T09:14:48.659Z"
   },
   {
    "duration": 0,
    "start_time": "2025-01-26T09:14:48.660Z"
   },
   {
    "duration": 0,
    "start_time": "2025-01-26T09:14:48.661Z"
   },
   {
    "duration": 0,
    "start_time": "2025-01-26T09:14:48.662Z"
   },
   {
    "duration": 0,
    "start_time": "2025-01-26T09:14:48.663Z"
   },
   {
    "duration": 0,
    "start_time": "2025-01-26T09:14:48.664Z"
   },
   {
    "duration": 0,
    "start_time": "2025-01-26T09:14:48.665Z"
   },
   {
    "duration": 1,
    "start_time": "2025-01-26T09:14:48.666Z"
   },
   {
    "duration": 0,
    "start_time": "2025-01-26T09:14:48.668Z"
   },
   {
    "duration": 90,
    "start_time": "2025-01-26T09:16:24.280Z"
   },
   {
    "duration": 102,
    "start_time": "2025-01-26T09:19:20.240Z"
   },
   {
    "duration": 32,
    "start_time": "2025-01-26T09:19:43.154Z"
   },
   {
    "duration": 24,
    "start_time": "2025-01-26T09:19:45.007Z"
   },
   {
    "duration": 40,
    "start_time": "2025-01-26T09:27:09.494Z"
   },
   {
    "duration": 23,
    "start_time": "2025-01-26T09:28:59.598Z"
   },
   {
    "duration": 60,
    "start_time": "2025-01-26T09:29:45.281Z"
   },
   {
    "duration": 65,
    "start_time": "2025-01-26T09:31:53.804Z"
   },
   {
    "duration": 17,
    "start_time": "2025-01-26T09:32:02.659Z"
   },
   {
    "duration": 29,
    "start_time": "2025-01-26T09:32:13.958Z"
   },
   {
    "duration": 13,
    "start_time": "2025-01-26T09:32:46.579Z"
   },
   {
    "duration": 3,
    "start_time": "2025-01-26T09:32:53.675Z"
   },
   {
    "duration": 12,
    "start_time": "2025-01-26T09:32:57.581Z"
   },
   {
    "duration": 29,
    "start_time": "2025-01-26T09:33:28.055Z"
   },
   {
    "duration": 22,
    "start_time": "2025-01-26T09:34:37.839Z"
   },
   {
    "duration": 866,
    "start_time": "2025-01-26T09:34:48.740Z"
   },
   {
    "duration": 366,
    "start_time": "2025-01-26T09:34:49.608Z"
   },
   {
    "duration": 256,
    "start_time": "2025-01-26T09:34:49.978Z"
   },
   {
    "duration": 10,
    "start_time": "2025-01-26T09:34:50.236Z"
   },
   {
    "duration": 18,
    "start_time": "2025-01-26T09:34:50.250Z"
   },
   {
    "duration": 60,
    "start_time": "2025-01-26T09:34:50.270Z"
   },
   {
    "duration": 12,
    "start_time": "2025-01-26T09:34:50.332Z"
   },
   {
    "duration": 114,
    "start_time": "2025-01-26T09:34:50.345Z"
   },
   {
    "duration": 191,
    "start_time": "2025-01-26T09:34:50.461Z"
   },
   {
    "duration": 37,
    "start_time": "2025-01-26T09:34:50.654Z"
   },
   {
    "duration": 26,
    "start_time": "2025-01-26T09:34:50.693Z"
   },
   {
    "duration": 3,
    "start_time": "2025-01-26T09:34:50.721Z"
   },
   {
    "duration": 16,
    "start_time": "2025-01-26T09:34:50.726Z"
   },
   {
    "duration": 82,
    "start_time": "2025-01-26T09:34:50.747Z"
   },
   {
    "duration": 540,
    "start_time": "2025-01-26T09:34:50.830Z"
   },
   {
    "duration": 240,
    "start_time": "2025-01-26T09:34:51.372Z"
   },
   {
    "duration": 0,
    "start_time": "2025-01-26T09:34:51.615Z"
   },
   {
    "duration": 0,
    "start_time": "2025-01-26T09:34:51.617Z"
   },
   {
    "duration": 0,
    "start_time": "2025-01-26T09:34:51.618Z"
   },
   {
    "duration": 0,
    "start_time": "2025-01-26T09:34:51.619Z"
   },
   {
    "duration": 0,
    "start_time": "2025-01-26T09:34:51.620Z"
   },
   {
    "duration": 0,
    "start_time": "2025-01-26T09:34:51.621Z"
   },
   {
    "duration": 0,
    "start_time": "2025-01-26T09:34:51.622Z"
   },
   {
    "duration": 0,
    "start_time": "2025-01-26T09:34:51.623Z"
   },
   {
    "duration": 0,
    "start_time": "2025-01-26T09:34:51.624Z"
   },
   {
    "duration": 0,
    "start_time": "2025-01-26T09:34:51.625Z"
   },
   {
    "duration": 0,
    "start_time": "2025-01-26T09:34:51.626Z"
   },
   {
    "duration": 0,
    "start_time": "2025-01-26T09:34:51.627Z"
   },
   {
    "duration": 0,
    "start_time": "2025-01-26T09:34:51.628Z"
   },
   {
    "duration": 0,
    "start_time": "2025-01-26T09:34:51.630Z"
   },
   {
    "duration": 0,
    "start_time": "2025-01-26T09:34:51.631Z"
   },
   {
    "duration": 0,
    "start_time": "2025-01-26T09:34:51.632Z"
   },
   {
    "duration": 0,
    "start_time": "2025-01-26T09:34:51.633Z"
   },
   {
    "duration": 0,
    "start_time": "2025-01-26T09:34:51.634Z"
   },
   {
    "duration": 0,
    "start_time": "2025-01-26T09:34:51.635Z"
   },
   {
    "duration": 115,
    "start_time": "2025-01-26T09:36:03.501Z"
   },
   {
    "duration": 11,
    "start_time": "2025-01-26T09:36:34.780Z"
   },
   {
    "duration": 22,
    "start_time": "2025-01-26T09:37:11.698Z"
   },
   {
    "duration": 14,
    "start_time": "2025-01-26T09:37:29.496Z"
   },
   {
    "duration": 11,
    "start_time": "2025-01-26T09:37:42.088Z"
   },
   {
    "duration": 267,
    "start_time": "2025-01-26T09:38:06.362Z"
   },
   {
    "duration": 6,
    "start_time": "2025-01-26T09:42:00.310Z"
   },
   {
    "duration": 7,
    "start_time": "2025-01-26T09:42:28.679Z"
   },
   {
    "duration": 42,
    "start_time": "2025-01-26T09:43:44.689Z"
   },
   {
    "duration": 16,
    "start_time": "2025-01-26T09:43:59.111Z"
   },
   {
    "duration": 83,
    "start_time": "2025-01-26T09:44:24.019Z"
   },
   {
    "duration": 23,
    "start_time": "2025-01-26T09:44:35.815Z"
   },
   {
    "duration": 21,
    "start_time": "2025-01-26T09:44:48.079Z"
   },
   {
    "duration": 50,
    "start_time": "2025-01-26T09:45:38.913Z"
   },
   {
    "duration": 38,
    "start_time": "2025-01-26T09:47:03.975Z"
   },
   {
    "duration": 851,
    "start_time": "2025-01-26T09:47:12.362Z"
   },
   {
    "duration": 363,
    "start_time": "2025-01-26T09:47:13.215Z"
   },
   {
    "duration": 266,
    "start_time": "2025-01-26T09:47:13.579Z"
   },
   {
    "duration": 11,
    "start_time": "2025-01-26T09:47:13.847Z"
   },
   {
    "duration": 20,
    "start_time": "2025-01-26T09:47:13.860Z"
   },
   {
    "duration": 61,
    "start_time": "2025-01-26T09:47:13.882Z"
   },
   {
    "duration": 11,
    "start_time": "2025-01-26T09:47:13.945Z"
   },
   {
    "duration": 112,
    "start_time": "2025-01-26T09:47:13.958Z"
   },
   {
    "duration": 193,
    "start_time": "2025-01-26T09:47:14.072Z"
   },
   {
    "duration": 52,
    "start_time": "2025-01-26T09:47:14.267Z"
   },
   {
    "duration": 15,
    "start_time": "2025-01-26T09:47:14.321Z"
   },
   {
    "duration": 4,
    "start_time": "2025-01-26T09:47:14.338Z"
   },
   {
    "duration": 11,
    "start_time": "2025-01-26T09:47:14.343Z"
   },
   {
    "duration": 27,
    "start_time": "2025-01-26T09:47:14.357Z"
   },
   {
    "duration": 28,
    "start_time": "2025-01-26T09:47:14.412Z"
   },
   {
    "duration": 136,
    "start_time": "2025-01-26T09:47:14.442Z"
   },
   {
    "duration": 10,
    "start_time": "2025-01-26T09:47:14.580Z"
   },
   {
    "duration": 367,
    "start_time": "2025-01-26T09:47:14.592Z"
   },
   {
    "duration": 9,
    "start_time": "2025-01-26T09:47:14.962Z"
   },
   {
    "duration": 452,
    "start_time": "2025-01-26T09:47:14.972Z"
   },
   {
    "duration": 249,
    "start_time": "2025-01-26T09:47:15.425Z"
   },
   {
    "duration": 0,
    "start_time": "2025-01-26T09:47:15.676Z"
   },
   {
    "duration": 0,
    "start_time": "2025-01-26T09:47:15.678Z"
   },
   {
    "duration": 0,
    "start_time": "2025-01-26T09:47:15.679Z"
   },
   {
    "duration": 0,
    "start_time": "2025-01-26T09:47:15.681Z"
   },
   {
    "duration": 0,
    "start_time": "2025-01-26T09:47:15.683Z"
   },
   {
    "duration": 0,
    "start_time": "2025-01-26T09:47:15.684Z"
   },
   {
    "duration": 0,
    "start_time": "2025-01-26T09:47:15.686Z"
   },
   {
    "duration": 0,
    "start_time": "2025-01-26T09:47:15.711Z"
   },
   {
    "duration": 0,
    "start_time": "2025-01-26T09:47:15.713Z"
   },
   {
    "duration": 0,
    "start_time": "2025-01-26T09:47:15.714Z"
   },
   {
    "duration": 0,
    "start_time": "2025-01-26T09:47:15.715Z"
   },
   {
    "duration": 0,
    "start_time": "2025-01-26T09:47:15.716Z"
   },
   {
    "duration": 0,
    "start_time": "2025-01-26T09:47:15.717Z"
   },
   {
    "duration": 0,
    "start_time": "2025-01-26T09:47:15.718Z"
   },
   {
    "duration": 0,
    "start_time": "2025-01-26T09:47:15.719Z"
   },
   {
    "duration": 0,
    "start_time": "2025-01-26T09:47:15.720Z"
   },
   {
    "duration": 0,
    "start_time": "2025-01-26T09:47:15.721Z"
   },
   {
    "duration": 0,
    "start_time": "2025-01-26T09:47:15.723Z"
   },
   {
    "duration": 0,
    "start_time": "2025-01-26T09:47:15.724Z"
   },
   {
    "duration": 28,
    "start_time": "2025-01-26T09:48:05.025Z"
   },
   {
    "duration": 110,
    "start_time": "2025-01-26T09:48:08.574Z"
   },
   {
    "duration": 107,
    "start_time": "2025-01-26T09:48:12.004Z"
   },
   {
    "duration": 10,
    "start_time": "2025-01-26T09:48:22.502Z"
   },
   {
    "duration": 279,
    "start_time": "2025-01-26T09:48:24.508Z"
   },
   {
    "duration": 8,
    "start_time": "2025-01-26T09:48:30.102Z"
   },
   {
    "duration": 4,
    "start_time": "2025-01-26T09:56:22.079Z"
   },
   {
    "duration": 8,
    "start_time": "2025-01-26T09:56:25.157Z"
   },
   {
    "duration": 3,
    "start_time": "2025-01-26T09:56:26.644Z"
   },
   {
    "duration": 90,
    "start_time": "2025-01-26T09:56:27.448Z"
   },
   {
    "duration": 2,
    "start_time": "2025-01-26T09:56:58.736Z"
   },
   {
    "duration": 31,
    "start_time": "2025-01-26T09:56:59.655Z"
   },
   {
    "duration": 2587,
    "start_time": "2025-01-26T21:18:27.266Z"
   },
   {
    "duration": 384,
    "start_time": "2025-01-26T21:18:29.855Z"
   },
   {
    "duration": 237,
    "start_time": "2025-01-26T21:18:30.241Z"
   },
   {
    "duration": 12,
    "start_time": "2025-01-26T21:18:30.481Z"
   },
   {
    "duration": 25,
    "start_time": "2025-01-26T21:18:30.495Z"
   },
   {
    "duration": 32,
    "start_time": "2025-01-26T21:18:30.542Z"
   },
   {
    "duration": 12,
    "start_time": "2025-01-26T21:18:30.576Z"
   },
   {
    "duration": 116,
    "start_time": "2025-01-26T21:18:30.590Z"
   },
   {
    "duration": 167,
    "start_time": "2025-01-26T21:18:30.707Z"
   },
   {
    "duration": 35,
    "start_time": "2025-01-26T21:18:30.877Z"
   },
   {
    "duration": 32,
    "start_time": "2025-01-26T21:18:30.914Z"
   },
   {
    "duration": 3,
    "start_time": "2025-01-26T21:18:30.949Z"
   },
   {
    "duration": 11,
    "start_time": "2025-01-26T21:18:30.954Z"
   },
   {
    "duration": 23,
    "start_time": "2025-01-26T21:18:30.966Z"
   },
   {
    "duration": 126,
    "start_time": "2025-01-26T21:18:30.991Z"
   },
   {
    "duration": 9,
    "start_time": "2025-01-26T21:18:31.119Z"
   },
   {
    "duration": 262,
    "start_time": "2025-01-26T21:18:31.142Z"
   },
   {
    "duration": 6,
    "start_time": "2025-01-26T21:18:31.406Z"
   },
   {
    "duration": 6,
    "start_time": "2025-01-26T21:18:31.414Z"
   },
   {
    "duration": 312,
    "start_time": "2025-01-26T21:18:31.422Z"
   },
   {
    "duration": 0,
    "start_time": "2025-01-26T21:18:31.744Z"
   },
   {
    "duration": 0,
    "start_time": "2025-01-26T21:18:31.745Z"
   },
   {
    "duration": 0,
    "start_time": "2025-01-26T21:18:31.746Z"
   },
   {
    "duration": 0,
    "start_time": "2025-01-26T21:18:31.747Z"
   },
   {
    "duration": 0,
    "start_time": "2025-01-26T21:18:31.748Z"
   },
   {
    "duration": 0,
    "start_time": "2025-01-26T21:18:31.750Z"
   },
   {
    "duration": 0,
    "start_time": "2025-01-26T21:18:31.751Z"
   },
   {
    "duration": 0,
    "start_time": "2025-01-26T21:18:31.753Z"
   },
   {
    "duration": 0,
    "start_time": "2025-01-26T21:18:31.755Z"
   },
   {
    "duration": 0,
    "start_time": "2025-01-26T21:18:31.756Z"
   },
   {
    "duration": 7,
    "start_time": "2025-01-26T21:43:31.651Z"
   },
   {
    "duration": 13,
    "start_time": "2025-01-26T21:43:39.719Z"
   },
   {
    "duration": 7,
    "start_time": "2025-01-26T21:43:49.533Z"
   },
   {
    "duration": 4,
    "start_time": "2025-01-26T21:51:06.176Z"
   },
   {
    "duration": 4,
    "start_time": "2025-01-26T21:51:13.761Z"
   },
   {
    "duration": 13,
    "start_time": "2025-01-26T21:51:53.267Z"
   },
   {
    "duration": 14,
    "start_time": "2025-01-26T21:52:01.724Z"
   },
   {
    "duration": 828,
    "start_time": "2025-01-27T00:05:28.508Z"
   },
   {
    "duration": 358,
    "start_time": "2025-01-27T00:05:29.338Z"
   },
   {
    "duration": 229,
    "start_time": "2025-01-27T00:05:29.698Z"
   },
   {
    "duration": 21,
    "start_time": "2025-01-27T00:05:29.928Z"
   },
   {
    "duration": 18,
    "start_time": "2025-01-27T00:05:29.952Z"
   },
   {
    "duration": 31,
    "start_time": "2025-01-27T00:05:29.972Z"
   },
   {
    "duration": 11,
    "start_time": "2025-01-27T00:05:30.005Z"
   },
   {
    "duration": 130,
    "start_time": "2025-01-27T00:05:30.017Z"
   },
   {
    "duration": 175,
    "start_time": "2025-01-27T00:05:30.150Z"
   },
   {
    "duration": 50,
    "start_time": "2025-01-27T00:05:30.326Z"
   },
   {
    "duration": 16,
    "start_time": "2025-01-27T00:05:30.379Z"
   },
   {
    "duration": 3,
    "start_time": "2025-01-27T00:05:30.398Z"
   },
   {
    "duration": 318,
    "start_time": "2025-01-27T00:05:30.403Z"
   },
   {
    "duration": 0,
    "start_time": "2025-01-27T00:05:30.724Z"
   },
   {
    "duration": 0,
    "start_time": "2025-01-27T00:05:30.725Z"
   },
   {
    "duration": 0,
    "start_time": "2025-01-27T00:05:30.727Z"
   },
   {
    "duration": 0,
    "start_time": "2025-01-27T00:05:30.728Z"
   },
   {
    "duration": 0,
    "start_time": "2025-01-27T00:05:30.729Z"
   },
   {
    "duration": 0,
    "start_time": "2025-01-27T00:05:30.746Z"
   },
   {
    "duration": 0,
    "start_time": "2025-01-27T00:05:30.747Z"
   },
   {
    "duration": 0,
    "start_time": "2025-01-27T00:05:30.749Z"
   },
   {
    "duration": 0,
    "start_time": "2025-01-27T00:05:30.751Z"
   },
   {
    "duration": 0,
    "start_time": "2025-01-27T00:05:30.752Z"
   },
   {
    "duration": 0,
    "start_time": "2025-01-27T00:05:30.753Z"
   },
   {
    "duration": 0,
    "start_time": "2025-01-27T00:05:30.755Z"
   },
   {
    "duration": 0,
    "start_time": "2025-01-27T00:05:30.757Z"
   },
   {
    "duration": 0,
    "start_time": "2025-01-27T00:05:30.758Z"
   },
   {
    "duration": 16,
    "start_time": "2025-01-27T00:06:34.222Z"
   },
   {
    "duration": 14,
    "start_time": "2025-01-27T00:20:56.209Z"
   },
   {
    "duration": 22,
    "start_time": "2025-01-27T00:21:49.054Z"
   },
   {
    "duration": 12,
    "start_time": "2025-01-27T00:22:09.366Z"
   },
   {
    "duration": 813,
    "start_time": "2025-01-27T00:24:28.629Z"
   },
   {
    "duration": 337,
    "start_time": "2025-01-27T00:24:29.445Z"
   },
   {
    "duration": 229,
    "start_time": "2025-01-27T00:24:29.783Z"
   },
   {
    "duration": 9,
    "start_time": "2025-01-27T00:24:30.014Z"
   },
   {
    "duration": 20,
    "start_time": "2025-01-27T00:24:30.043Z"
   },
   {
    "duration": 31,
    "start_time": "2025-01-27T00:24:30.065Z"
   },
   {
    "duration": 12,
    "start_time": "2025-01-27T00:24:30.098Z"
   },
   {
    "duration": 116,
    "start_time": "2025-01-27T00:24:30.113Z"
   },
   {
    "duration": 179,
    "start_time": "2025-01-27T00:24:30.231Z"
   },
   {
    "duration": 43,
    "start_time": "2025-01-27T00:24:30.412Z"
   },
   {
    "duration": 16,
    "start_time": "2025-01-27T00:24:30.456Z"
   },
   {
    "duration": 3,
    "start_time": "2025-01-27T00:24:30.473Z"
   },
   {
    "duration": 15,
    "start_time": "2025-01-27T00:24:30.477Z"
   },
   {
    "duration": 50,
    "start_time": "2025-01-27T00:24:30.496Z"
   },
   {
    "duration": 129,
    "start_time": "2025-01-27T00:24:30.548Z"
   },
   {
    "duration": 8,
    "start_time": "2025-01-27T00:24:30.679Z"
   },
   {
    "duration": 338,
    "start_time": "2025-01-27T00:24:30.689Z"
   },
   {
    "duration": 16,
    "start_time": "2025-01-27T00:24:31.029Z"
   },
   {
    "duration": 8,
    "start_time": "2025-01-27T00:24:31.046Z"
   },
   {
    "duration": 248,
    "start_time": "2025-01-27T00:24:31.056Z"
   },
   {
    "duration": 0,
    "start_time": "2025-01-27T00:24:31.306Z"
   },
   {
    "duration": 0,
    "start_time": "2025-01-27T00:24:31.308Z"
   },
   {
    "duration": 0,
    "start_time": "2025-01-27T00:24:31.309Z"
   },
   {
    "duration": 0,
    "start_time": "2025-01-27T00:24:31.311Z"
   },
   {
    "duration": 0,
    "start_time": "2025-01-27T00:24:31.313Z"
   },
   {
    "duration": 1,
    "start_time": "2025-01-27T00:24:31.314Z"
   },
   {
    "duration": 0,
    "start_time": "2025-01-27T00:24:31.316Z"
   },
   {
    "duration": 11,
    "start_time": "2025-01-27T01:03:01.234Z"
   },
   {
    "duration": 28,
    "start_time": "2025-01-27T01:03:58.304Z"
   },
   {
    "duration": 29,
    "start_time": "2025-01-27T01:06:29.750Z"
   },
   {
    "duration": 31,
    "start_time": "2025-01-27T01:08:05.368Z"
   },
   {
    "duration": 37,
    "start_time": "2025-01-27T01:08:58.260Z"
   },
   {
    "duration": 3,
    "start_time": "2025-01-27T01:19:13.490Z"
   },
   {
    "duration": 35,
    "start_time": "2025-01-27T01:20:25.719Z"
   },
   {
    "duration": 131,
    "start_time": "2025-01-27T01:21:54.668Z"
   },
   {
    "duration": 40,
    "start_time": "2025-01-27T01:22:42.699Z"
   },
   {
    "duration": 31,
    "start_time": "2025-01-27T01:25:02.870Z"
   },
   {
    "duration": 32,
    "start_time": "2025-01-27T01:25:15.425Z"
   },
   {
    "duration": 44,
    "start_time": "2025-01-27T01:26:26.673Z"
   },
   {
    "duration": 15,
    "start_time": "2025-01-27T01:33:55.300Z"
   },
   {
    "duration": 29,
    "start_time": "2025-01-27T01:35:59.654Z"
   },
   {
    "duration": 47,
    "start_time": "2025-01-27T01:36:39.850Z"
   },
   {
    "duration": 29,
    "start_time": "2025-01-27T01:43:59.806Z"
   },
   {
    "duration": 29,
    "start_time": "2025-01-27T01:45:57.472Z"
   },
   {
    "duration": 208,
    "start_time": "2025-01-27T01:46:29.700Z"
   },
   {
    "duration": 30,
    "start_time": "2025-01-27T01:47:27.413Z"
   },
   {
    "duration": 60,
    "start_time": "2025-01-27T01:48:31.329Z"
   },
   {
    "duration": 69,
    "start_time": "2025-01-27T01:48:49.669Z"
   },
   {
    "duration": 64,
    "start_time": "2025-01-27T01:49:00.565Z"
   },
   {
    "duration": 82,
    "start_time": "2025-01-27T01:49:29.590Z"
   },
   {
    "duration": 61,
    "start_time": "2025-01-27T01:50:39.919Z"
   },
   {
    "duration": 870,
    "start_time": "2025-01-27T01:52:18.662Z"
   },
   {
    "duration": 336,
    "start_time": "2025-01-27T01:52:19.534Z"
   },
   {
    "duration": 225,
    "start_time": "2025-01-27T01:52:19.871Z"
   },
   {
    "duration": 10,
    "start_time": "2025-01-27T01:52:20.099Z"
   },
   {
    "duration": 33,
    "start_time": "2025-01-27T01:52:20.110Z"
   },
   {
    "duration": 31,
    "start_time": "2025-01-27T01:52:20.145Z"
   },
   {
    "duration": 11,
    "start_time": "2025-01-27T01:52:20.178Z"
   },
   {
    "duration": 122,
    "start_time": "2025-01-27T01:52:20.190Z"
   },
   {
    "duration": 186,
    "start_time": "2025-01-27T01:52:20.314Z"
   },
   {
    "duration": 48,
    "start_time": "2025-01-27T01:52:20.509Z"
   },
   {
    "duration": 19,
    "start_time": "2025-01-27T01:52:20.558Z"
   },
   {
    "duration": 4,
    "start_time": "2025-01-27T01:52:20.579Z"
   },
   {
    "duration": 84,
    "start_time": "2025-01-27T01:52:20.585Z"
   },
   {
    "duration": 15,
    "start_time": "2025-01-27T01:52:20.671Z"
   },
   {
    "duration": 56,
    "start_time": "2025-01-27T01:52:20.687Z"
   },
   {
    "duration": 127,
    "start_time": "2025-01-27T01:52:20.746Z"
   },
   {
    "duration": 9,
    "start_time": "2025-01-27T01:52:20.874Z"
   },
   {
    "duration": 327,
    "start_time": "2025-01-27T01:52:20.885Z"
   },
   {
    "duration": 7,
    "start_time": "2025-01-27T01:52:21.214Z"
   },
   {
    "duration": 268,
    "start_time": "2025-01-27T01:52:21.222Z"
   },
   {
    "duration": 0,
    "start_time": "2025-01-27T01:52:21.494Z"
   },
   {
    "duration": 0,
    "start_time": "2025-01-27T01:52:21.496Z"
   },
   {
    "duration": 0,
    "start_time": "2025-01-27T01:52:21.497Z"
   },
   {
    "duration": 0,
    "start_time": "2025-01-27T01:52:21.498Z"
   },
   {
    "duration": 0,
    "start_time": "2025-01-27T01:52:21.499Z"
   },
   {
    "duration": 0,
    "start_time": "2025-01-27T01:52:21.500Z"
   },
   {
    "duration": 15,
    "start_time": "2025-01-27T01:55:17.423Z"
   },
   {
    "duration": 43,
    "start_time": "2025-01-27T01:58:35.548Z"
   },
   {
    "duration": 9,
    "start_time": "2025-01-27T01:58:42.545Z"
   },
   {
    "duration": 433,
    "start_time": "2025-01-27T01:58:56.498Z"
   },
   {
    "duration": 36,
    "start_time": "2025-01-27T02:01:36.311Z"
   },
   {
    "duration": 36,
    "start_time": "2025-01-27T02:01:54.926Z"
   },
   {
    "duration": 36,
    "start_time": "2025-01-27T02:02:04.804Z"
   },
   {
    "duration": 32,
    "start_time": "2025-01-27T02:02:11.636Z"
   },
   {
    "duration": 30,
    "start_time": "2025-01-27T02:02:25.122Z"
   },
   {
    "duration": 12,
    "start_time": "2025-01-27T02:02:41.881Z"
   },
   {
    "duration": 35,
    "start_time": "2025-01-27T02:02:57.413Z"
   },
   {
    "duration": 25,
    "start_time": "2025-01-27T02:03:56.991Z"
   },
   {
    "duration": 36,
    "start_time": "2025-01-27T02:04:08.803Z"
   },
   {
    "duration": 2594,
    "start_time": "2025-01-27T04:20:56.495Z"
   },
   {
    "duration": 389,
    "start_time": "2025-01-27T04:20:59.091Z"
   },
   {
    "duration": 233,
    "start_time": "2025-01-27T04:20:59.482Z"
   },
   {
    "duration": 18,
    "start_time": "2025-01-27T04:20:59.717Z"
   },
   {
    "duration": 18,
    "start_time": "2025-01-27T04:20:59.738Z"
   },
   {
    "duration": 33,
    "start_time": "2025-01-27T04:20:59.758Z"
   },
   {
    "duration": 11,
    "start_time": "2025-01-27T04:20:59.793Z"
   },
   {
    "duration": 131,
    "start_time": "2025-01-27T04:20:59.806Z"
   },
   {
    "duration": 163,
    "start_time": "2025-01-27T04:20:59.938Z"
   },
   {
    "duration": 52,
    "start_time": "2025-01-27T04:21:00.103Z"
   },
   {
    "duration": 16,
    "start_time": "2025-01-27T04:21:00.157Z"
   },
   {
    "duration": 3,
    "start_time": "2025-01-27T04:21:00.176Z"
   },
   {
    "duration": 86,
    "start_time": "2025-01-27T04:21:00.181Z"
   },
   {
    "duration": 118,
    "start_time": "2025-01-27T04:21:00.271Z"
   },
   {
    "duration": 10,
    "start_time": "2025-01-27T04:21:00.390Z"
   },
   {
    "duration": 294,
    "start_time": "2025-01-27T04:21:00.401Z"
   },
   {
    "duration": 7,
    "start_time": "2025-01-27T04:21:00.697Z"
   },
   {
    "duration": 52,
    "start_time": "2025-01-27T04:21:00.706Z"
   },
   {
    "duration": 9,
    "start_time": "2025-01-27T04:21:00.760Z"
   },
   {
    "duration": 644,
    "start_time": "2025-01-27T04:21:00.770Z"
   },
   {
    "duration": 0,
    "start_time": "2025-01-27T04:21:01.415Z"
   },
   {
    "duration": 128,
    "start_time": "2025-01-27T04:26:35.404Z"
   },
   {
    "duration": 52,
    "start_time": "2025-01-27T05:11:59.574Z"
   },
   {
    "duration": 23,
    "start_time": "2025-01-27T05:12:08.603Z"
   },
   {
    "duration": 160,
    "start_time": "2025-01-27T05:19:30.163Z"
   },
   {
    "duration": 205,
    "start_time": "2025-01-27T05:34:44.476Z"
   },
   {
    "duration": 241,
    "start_time": "2025-01-27T05:52:02.331Z"
   },
   {
    "duration": 2616,
    "start_time": "2025-01-27T08:01:17.404Z"
   },
   {
    "duration": 410,
    "start_time": "2025-01-27T08:01:20.023Z"
   },
   {
    "duration": 260,
    "start_time": "2025-01-27T08:01:20.434Z"
   },
   {
    "duration": 26,
    "start_time": "2025-01-27T08:01:20.697Z"
   },
   {
    "duration": 19,
    "start_time": "2025-01-27T08:01:20.726Z"
   },
   {
    "duration": 32,
    "start_time": "2025-01-27T08:01:20.747Z"
   },
   {
    "duration": 11,
    "start_time": "2025-01-27T08:01:20.781Z"
   },
   {
    "duration": 115,
    "start_time": "2025-01-27T08:01:20.793Z"
   },
   {
    "duration": 198,
    "start_time": "2025-01-27T08:01:20.910Z"
   },
   {
    "duration": 45,
    "start_time": "2025-01-27T08:01:21.110Z"
   },
   {
    "duration": 17,
    "start_time": "2025-01-27T08:01:21.157Z"
   },
   {
    "duration": 4,
    "start_time": "2025-01-27T08:01:21.179Z"
   },
   {
    "duration": 66,
    "start_time": "2025-01-27T08:01:21.185Z"
   },
   {
    "duration": 24,
    "start_time": "2025-01-27T08:01:21.255Z"
   },
   {
    "duration": 298,
    "start_time": "2025-01-27T08:01:21.281Z"
   },
   {
    "duration": 112,
    "start_time": "2025-01-27T08:01:21.581Z"
   },
   {
    "duration": 10,
    "start_time": "2025-01-27T08:01:21.694Z"
   },
   {
    "duration": 291,
    "start_time": "2025-01-27T08:01:21.706Z"
   },
   {
    "duration": 7,
    "start_time": "2025-01-27T08:01:21.999Z"
   },
   {
    "duration": 52,
    "start_time": "2025-01-27T08:01:22.007Z"
   },
   {
    "duration": 10,
    "start_time": "2025-01-27T08:01:22.061Z"
   },
   {
    "duration": 758,
    "start_time": "2025-01-27T08:01:22.073Z"
   },
   {
    "duration": 0,
    "start_time": "2025-01-27T08:01:22.833Z"
   },
   {
    "duration": 256,
    "start_time": "2025-01-27T08:05:12.611Z"
   },
   {
    "duration": 254,
    "start_time": "2025-01-27T08:05:33.703Z"
   },
   {
    "duration": 657,
    "start_time": "2025-01-27T08:11:39.754Z"
   },
   {
    "duration": 150,
    "start_time": "2025-01-27T08:12:53.450Z"
   },
   {
    "duration": 206,
    "start_time": "2025-01-27T08:12:59.967Z"
   },
   {
    "duration": 6,
    "start_time": "2025-01-27T08:15:32.725Z"
   },
   {
    "duration": 172,
    "start_time": "2025-01-27T08:15:39.882Z"
   },
   {
    "duration": 45,
    "start_time": "2025-01-27T08:16:04.546Z"
   },
   {
    "duration": 3,
    "start_time": "2025-01-27T08:38:40.452Z"
   },
   {
    "duration": 23,
    "start_time": "2025-01-27T08:41:47.528Z"
   },
   {
    "duration": 29,
    "start_time": "2025-01-27T08:42:01.815Z"
   },
   {
    "duration": 29,
    "start_time": "2025-01-27T08:42:35.446Z"
   },
   {
    "duration": 10,
    "start_time": "2025-01-27T08:42:46.302Z"
   },
   {
    "duration": 44,
    "start_time": "2025-01-27T08:43:19.362Z"
   },
   {
    "duration": 42,
    "start_time": "2025-01-27T08:54:03.569Z"
   },
   {
    "duration": 45,
    "start_time": "2025-01-27T08:54:32.242Z"
   },
   {
    "duration": 35,
    "start_time": "2025-01-27T09:19:58.156Z"
   },
   {
    "duration": 11,
    "start_time": "2025-01-27T09:20:16.531Z"
   },
   {
    "duration": 32,
    "start_time": "2025-01-27T09:30:25.632Z"
   },
   {
    "duration": 22,
    "start_time": "2025-01-27T09:31:23.443Z"
   },
   {
    "duration": 14,
    "start_time": "2025-01-27T09:31:30.865Z"
   },
   {
    "duration": 34,
    "start_time": "2025-01-27T09:31:40.208Z"
   },
   {
    "duration": 792,
    "start_time": "2025-01-27T09:31:50.717Z"
   },
   {
    "duration": 335,
    "start_time": "2025-01-27T09:31:51.511Z"
   },
   {
    "duration": 244,
    "start_time": "2025-01-27T09:31:51.848Z"
   },
   {
    "duration": 10,
    "start_time": "2025-01-27T09:31:52.094Z"
   },
   {
    "duration": 35,
    "start_time": "2025-01-27T09:31:52.106Z"
   },
   {
    "duration": 30,
    "start_time": "2025-01-27T09:31:52.143Z"
   },
   {
    "duration": 12,
    "start_time": "2025-01-27T09:31:52.175Z"
   },
   {
    "duration": 136,
    "start_time": "2025-01-27T09:31:52.189Z"
   },
   {
    "duration": 158,
    "start_time": "2025-01-27T09:31:52.326Z"
   },
   {
    "duration": 44,
    "start_time": "2025-01-27T09:31:52.487Z"
   },
   {
    "duration": 14,
    "start_time": "2025-01-27T09:31:52.533Z"
   },
   {
    "duration": 3,
    "start_time": "2025-01-27T09:31:52.548Z"
   },
   {
    "duration": 43,
    "start_time": "2025-01-27T09:31:52.553Z"
   },
   {
    "duration": 31,
    "start_time": "2025-01-27T09:31:52.598Z"
   },
   {
    "duration": 9,
    "start_time": "2025-01-27T09:31:52.631Z"
   },
   {
    "duration": 9,
    "start_time": "2025-01-27T09:31:52.642Z"
   },
   {
    "duration": 106,
    "start_time": "2025-01-27T09:31:52.652Z"
   },
   {
    "duration": 36,
    "start_time": "2025-01-27T09:31:52.760Z"
   },
   {
    "duration": 254,
    "start_time": "2025-01-27T09:31:52.798Z"
   },
   {
    "duration": 118,
    "start_time": "2025-01-27T09:31:53.055Z"
   },
   {
    "duration": 11,
    "start_time": "2025-01-27T09:31:53.174Z"
   },
   {
    "duration": 339,
    "start_time": "2025-01-27T09:31:53.186Z"
   },
   {
    "duration": 7,
    "start_time": "2025-01-27T09:31:53.527Z"
   },
   {
    "duration": 44,
    "start_time": "2025-01-27T09:31:53.536Z"
   },
   {
    "duration": 9,
    "start_time": "2025-01-27T09:31:53.581Z"
   },
   {
    "duration": 31,
    "start_time": "2025-01-27T09:31:53.593Z"
   },
   {
    "duration": 140,
    "start_time": "2025-01-27T09:31:53.626Z"
   },
   {
    "duration": 12,
    "start_time": "2025-01-27T09:36:23.137Z"
   },
   {
    "duration": 37,
    "start_time": "2025-01-27T09:38:08.251Z"
   },
   {
    "duration": 5,
    "start_time": "2025-01-27T09:41:18.979Z"
   },
   {
    "duration": 270,
    "start_time": "2025-01-27T09:41:25.398Z"
   },
   {
    "duration": 11,
    "start_time": "2025-01-27T09:41:34.406Z"
   },
   {
    "duration": 12,
    "start_time": "2025-01-27T09:42:29.774Z"
   },
   {
    "duration": 11,
    "start_time": "2025-01-27T09:42:44.504Z"
   },
   {
    "duration": 110,
    "start_time": "2025-01-27T09:49:54.067Z"
   },
   {
    "duration": 795,
    "start_time": "2025-01-27T09:50:58.864Z"
   },
   {
    "duration": 333,
    "start_time": "2025-01-27T09:50:59.661Z"
   },
   {
    "duration": 236,
    "start_time": "2025-01-27T09:50:59.995Z"
   },
   {
    "duration": 11,
    "start_time": "2025-01-27T09:51:00.233Z"
   },
   {
    "duration": 18,
    "start_time": "2025-01-27T09:51:00.246Z"
   },
   {
    "duration": 31,
    "start_time": "2025-01-27T09:51:00.265Z"
   },
   {
    "duration": 33,
    "start_time": "2025-01-27T09:51:00.297Z"
   },
   {
    "duration": 106,
    "start_time": "2025-01-27T09:51:00.332Z"
   },
   {
    "duration": 157,
    "start_time": "2025-01-27T09:51:00.440Z"
   },
   {
    "duration": 42,
    "start_time": "2025-01-27T09:51:00.599Z"
   },
   {
    "duration": 15,
    "start_time": "2025-01-27T09:51:00.643Z"
   },
   {
    "duration": 3,
    "start_time": "2025-01-27T09:51:00.659Z"
   },
   {
    "duration": 60,
    "start_time": "2025-01-27T09:51:00.664Z"
   },
   {
    "duration": 10,
    "start_time": "2025-01-27T09:51:00.727Z"
   },
   {
    "duration": 9,
    "start_time": "2025-01-27T09:51:00.739Z"
   },
   {
    "duration": 10,
    "start_time": "2025-01-27T09:51:00.750Z"
   },
   {
    "duration": 286,
    "start_time": "2025-01-27T09:51:00.761Z"
   },
   {
    "duration": 0,
    "start_time": "2025-01-27T09:51:01.048Z"
   },
   {
    "duration": 0,
    "start_time": "2025-01-27T09:51:01.050Z"
   },
   {
    "duration": 0,
    "start_time": "2025-01-27T09:51:01.050Z"
   },
   {
    "duration": 0,
    "start_time": "2025-01-27T09:51:01.051Z"
   },
   {
    "duration": 0,
    "start_time": "2025-01-27T09:51:01.052Z"
   },
   {
    "duration": 0,
    "start_time": "2025-01-27T09:51:01.053Z"
   },
   {
    "duration": 0,
    "start_time": "2025-01-27T09:51:01.054Z"
   },
   {
    "duration": 43,
    "start_time": "2025-01-27T09:52:33.378Z"
   },
   {
    "duration": 13,
    "start_time": "2025-01-27T09:52:51.899Z"
   },
   {
    "duration": 9,
    "start_time": "2025-01-27T09:52:55.425Z"
   },
   {
    "duration": 142,
    "start_time": "2025-01-27T09:53:00.136Z"
   },
   {
    "duration": 9,
    "start_time": "2025-01-27T09:53:11.601Z"
   },
   {
    "duration": 261,
    "start_time": "2025-01-27T09:53:13.837Z"
   },
   {
    "duration": 226,
    "start_time": "2025-01-27T09:53:27.353Z"
   },
   {
    "duration": 11,
    "start_time": "2025-01-27T09:54:05.655Z"
   },
   {
    "duration": 122,
    "start_time": "2025-01-27T09:54:40.369Z"
   },
   {
    "duration": 2561,
    "start_time": "2025-01-27T20:49:46.308Z"
   },
   {
    "duration": 424,
    "start_time": "2025-01-27T20:49:48.871Z"
   },
   {
    "duration": 240,
    "start_time": "2025-01-27T20:49:49.297Z"
   },
   {
    "duration": 10,
    "start_time": "2025-01-27T20:49:49.540Z"
   },
   {
    "duration": 18,
    "start_time": "2025-01-27T20:49:49.552Z"
   },
   {
    "duration": 31,
    "start_time": "2025-01-27T20:49:49.571Z"
   },
   {
    "duration": 36,
    "start_time": "2025-01-27T20:49:49.604Z"
   },
   {
    "duration": 104,
    "start_time": "2025-01-27T20:49:49.641Z"
   },
   {
    "duration": 186,
    "start_time": "2025-01-27T20:49:49.748Z"
   },
   {
    "duration": 32,
    "start_time": "2025-01-27T20:49:49.937Z"
   },
   {
    "duration": 17,
    "start_time": "2025-01-27T20:49:49.971Z"
   },
   {
    "duration": 3,
    "start_time": "2025-01-27T20:49:49.990Z"
   },
   {
    "duration": 64,
    "start_time": "2025-01-27T20:49:49.995Z"
   },
   {
    "duration": 9,
    "start_time": "2025-01-27T20:49:50.061Z"
   },
   {
    "duration": 11,
    "start_time": "2025-01-27T20:49:50.072Z"
   },
   {
    "duration": 10,
    "start_time": "2025-01-27T20:49:50.084Z"
   },
   {
    "duration": 158,
    "start_time": "2025-01-27T20:49:50.096Z"
   },
   {
    "duration": 307,
    "start_time": "2025-01-27T20:49:50.256Z"
   },
   {
    "duration": 0,
    "start_time": "2025-01-27T20:49:50.565Z"
   },
   {
    "duration": 0,
    "start_time": "2025-01-27T20:49:50.567Z"
   },
   {
    "duration": 0,
    "start_time": "2025-01-27T20:49:50.568Z"
   },
   {
    "duration": 0,
    "start_time": "2025-01-27T20:49:50.570Z"
   },
   {
    "duration": 0,
    "start_time": "2025-01-27T20:49:50.572Z"
   },
   {
    "duration": 0,
    "start_time": "2025-01-27T20:49:50.573Z"
   },
   {
    "duration": 0,
    "start_time": "2025-01-27T20:49:50.575Z"
   },
   {
    "duration": 165,
    "start_time": "2025-01-27T21:09:09.913Z"
   },
   {
    "duration": 107,
    "start_time": "2025-01-27T21:09:41.373Z"
   },
   {
    "duration": 373,
    "start_time": "2025-01-27T21:11:56.902Z"
   },
   {
    "duration": 116,
    "start_time": "2025-01-27T21:12:18.809Z"
   },
   {
    "duration": 109,
    "start_time": "2025-01-27T21:15:09.965Z"
   },
   {
    "duration": 48,
    "start_time": "2025-01-27T21:18:28.928Z"
   },
   {
    "duration": 107,
    "start_time": "2025-01-27T21:27:55.749Z"
   },
   {
    "duration": 16,
    "start_time": "2025-01-27T21:28:08.428Z"
   },
   {
    "duration": 397,
    "start_time": "2025-01-27T21:32:26.738Z"
   },
   {
    "duration": 53,
    "start_time": "2025-01-27T21:33:20.365Z"
   },
   {
    "duration": 53,
    "start_time": "2025-01-27T21:33:41.070Z"
   },
   {
    "duration": 152,
    "start_time": "2025-01-27T21:34:37.102Z"
   },
   {
    "duration": 32,
    "start_time": "2025-01-27T21:35:10.206Z"
   },
   {
    "duration": 64,
    "start_time": "2025-01-27T21:35:31.932Z"
   },
   {
    "duration": 150,
    "start_time": "2025-01-27T21:35:34.659Z"
   },
   {
    "duration": 19,
    "start_time": "2025-01-27T21:35:57.802Z"
   },
   {
    "duration": 806,
    "start_time": "2025-01-27T21:36:20.529Z"
   },
   {
    "duration": 350,
    "start_time": "2025-01-27T21:36:21.337Z"
   },
   {
    "duration": 231,
    "start_time": "2025-01-27T21:36:21.690Z"
   },
   {
    "duration": 17,
    "start_time": "2025-01-27T21:36:21.923Z"
   },
   {
    "duration": 25,
    "start_time": "2025-01-27T21:36:21.942Z"
   },
   {
    "duration": 37,
    "start_time": "2025-01-27T21:36:21.969Z"
   },
   {
    "duration": 35,
    "start_time": "2025-01-27T21:36:22.008Z"
   },
   {
    "duration": 122,
    "start_time": "2025-01-27T21:36:22.047Z"
   },
   {
    "duration": 175,
    "start_time": "2025-01-27T21:36:22.171Z"
   },
   {
    "duration": 42,
    "start_time": "2025-01-27T21:36:22.350Z"
   },
   {
    "duration": 19,
    "start_time": "2025-01-27T21:36:22.394Z"
   },
   {
    "duration": 16,
    "start_time": "2025-01-27T21:36:22.415Z"
   },
   {
    "duration": 48,
    "start_time": "2025-01-27T21:36:22.433Z"
   },
   {
    "duration": 153,
    "start_time": "2025-01-27T21:36:22.484Z"
   },
   {
    "duration": 22,
    "start_time": "2025-01-27T21:36:22.638Z"
   },
   {
    "duration": 315,
    "start_time": "2025-01-27T21:36:22.663Z"
   },
   {
    "duration": 0,
    "start_time": "2025-01-27T21:36:22.981Z"
   },
   {
    "duration": 0,
    "start_time": "2025-01-27T21:36:22.983Z"
   },
   {
    "duration": 0,
    "start_time": "2025-01-27T21:36:22.984Z"
   },
   {
    "duration": 0,
    "start_time": "2025-01-27T21:36:22.985Z"
   },
   {
    "duration": 0,
    "start_time": "2025-01-27T21:36:22.986Z"
   },
   {
    "duration": 0,
    "start_time": "2025-01-27T21:36:22.988Z"
   },
   {
    "duration": 0,
    "start_time": "2025-01-27T21:36:22.989Z"
   },
   {
    "duration": 0,
    "start_time": "2025-01-27T21:36:22.990Z"
   },
   {
    "duration": 0,
    "start_time": "2025-01-27T21:36:22.993Z"
   },
   {
    "duration": 0,
    "start_time": "2025-01-27T21:36:22.994Z"
   },
   {
    "duration": 0,
    "start_time": "2025-01-27T21:36:22.995Z"
   },
   {
    "duration": 0,
    "start_time": "2025-01-27T21:36:22.996Z"
   },
   {
    "duration": 0,
    "start_time": "2025-01-27T21:36:22.998Z"
   },
   {
    "duration": 46,
    "start_time": "2025-01-27T21:37:26.472Z"
   },
   {
    "duration": 148,
    "start_time": "2025-01-27T21:37:32.624Z"
   },
   {
    "duration": 15,
    "start_time": "2025-01-27T22:00:19.976Z"
   },
   {
    "duration": 7,
    "start_time": "2025-01-27T22:00:34.032Z"
   },
   {
    "duration": 12,
    "start_time": "2025-01-27T22:01:00.584Z"
   },
   {
    "duration": 142,
    "start_time": "2025-01-27T22:01:36.578Z"
   },
   {
    "duration": 16,
    "start_time": "2025-01-27T22:05:47.526Z"
   },
   {
    "duration": 14,
    "start_time": "2025-01-27T22:06:35.471Z"
   },
   {
    "duration": 384,
    "start_time": "2025-01-27T22:24:13.764Z"
   },
   {
    "duration": 5,
    "start_time": "2025-01-27T22:25:53.342Z"
   },
   {
    "duration": 205,
    "start_time": "2025-01-27T22:28:08.959Z"
   },
   {
    "duration": 47,
    "start_time": "2025-01-27T22:28:43.419Z"
   },
   {
    "duration": 46,
    "start_time": "2025-01-27T22:29:24.046Z"
   },
   {
    "duration": 20,
    "start_time": "2025-01-27T22:31:06.812Z"
   },
   {
    "duration": 16,
    "start_time": "2025-01-27T22:33:08.762Z"
   },
   {
    "duration": 286,
    "start_time": "2025-01-27T22:33:22.517Z"
   },
   {
    "duration": 431,
    "start_time": "2025-01-27T22:34:13.758Z"
   },
   {
    "duration": 845,
    "start_time": "2025-01-27T22:52:30.179Z"
   },
   {
    "duration": 347,
    "start_time": "2025-01-27T22:52:31.026Z"
   },
   {
    "duration": 237,
    "start_time": "2025-01-27T22:52:31.375Z"
   },
   {
    "duration": 19,
    "start_time": "2025-01-27T22:52:31.614Z"
   },
   {
    "duration": 18,
    "start_time": "2025-01-27T22:52:31.635Z"
   },
   {
    "duration": 34,
    "start_time": "2025-01-27T22:52:31.655Z"
   },
   {
    "duration": 14,
    "start_time": "2025-01-27T22:52:31.691Z"
   },
   {
    "duration": 137,
    "start_time": "2025-01-27T22:52:31.707Z"
   },
   {
    "duration": 169,
    "start_time": "2025-01-27T22:52:31.846Z"
   },
   {
    "duration": 42,
    "start_time": "2025-01-27T22:52:32.016Z"
   },
   {
    "duration": 15,
    "start_time": "2025-01-27T22:52:32.059Z"
   },
   {
    "duration": 3,
    "start_time": "2025-01-27T22:52:32.076Z"
   },
   {
    "duration": 65,
    "start_time": "2025-01-27T22:52:32.080Z"
   },
   {
    "duration": 142,
    "start_time": "2025-01-27T22:52:32.147Z"
   },
   {
    "duration": 20,
    "start_time": "2025-01-27T22:52:32.291Z"
   },
   {
    "duration": 18,
    "start_time": "2025-01-27T22:52:32.313Z"
   },
   {
    "duration": 11,
    "start_time": "2025-01-27T22:52:32.333Z"
   },
   {
    "duration": 163,
    "start_time": "2025-01-27T22:52:32.345Z"
   },
   {
    "duration": 22,
    "start_time": "2025-01-27T22:52:32.510Z"
   },
   {
    "duration": 930,
    "start_time": "2025-01-28T00:14:07.633Z"
   },
   {
    "duration": 106,
    "start_time": "2025-01-28T00:14:39.425Z"
   },
   {
    "duration": 107,
    "start_time": "2025-01-28T00:16:22.227Z"
   },
   {
    "duration": 362,
    "start_time": "2025-01-28T00:23:32.608Z"
   },
   {
    "duration": 832,
    "start_time": "2025-01-28T00:24:03.786Z"
   },
   {
    "duration": 344,
    "start_time": "2025-01-28T00:24:04.621Z"
   },
   {
    "duration": 237,
    "start_time": "2025-01-28T00:24:04.967Z"
   },
   {
    "duration": 11,
    "start_time": "2025-01-28T00:24:05.207Z"
   },
   {
    "duration": 28,
    "start_time": "2025-01-28T00:24:05.220Z"
   },
   {
    "duration": 32,
    "start_time": "2025-01-28T00:24:05.250Z"
   },
   {
    "duration": 11,
    "start_time": "2025-01-28T00:24:05.284Z"
   },
   {
    "duration": 124,
    "start_time": "2025-01-28T00:24:05.297Z"
   },
   {
    "duration": 175,
    "start_time": "2025-01-28T00:24:05.422Z"
   },
   {
    "duration": 37,
    "start_time": "2025-01-28T00:24:05.601Z"
   },
   {
    "duration": 14,
    "start_time": "2025-01-28T00:24:05.639Z"
   },
   {
    "duration": 3,
    "start_time": "2025-01-28T00:24:05.655Z"
   },
   {
    "duration": 49,
    "start_time": "2025-01-28T00:24:05.660Z"
   },
   {
    "duration": 45,
    "start_time": "2025-01-28T00:24:05.732Z"
   },
   {
    "duration": 147,
    "start_time": "2025-01-28T00:24:05.779Z"
   },
   {
    "duration": 22,
    "start_time": "2025-01-28T00:24:05.931Z"
   },
   {
    "duration": 8,
    "start_time": "2025-01-28T00:24:05.954Z"
   },
   {
    "duration": 13,
    "start_time": "2025-01-28T00:24:05.964Z"
   },
   {
    "duration": 176,
    "start_time": "2025-01-28T00:24:05.978Z"
   },
   {
    "duration": 13,
    "start_time": "2025-01-28T00:24:06.157Z"
   },
   {
    "duration": 124,
    "start_time": "2025-01-28T00:24:06.172Z"
   },
   {
    "duration": 5,
    "start_time": "2025-01-28T00:24:06.299Z"
   },
   {
    "duration": 2563,
    "start_time": "2025-01-28T02:43:28.191Z"
   },
   {
    "duration": 404,
    "start_time": "2025-01-28T02:43:30.756Z"
   },
   {
    "duration": 246,
    "start_time": "2025-01-28T02:43:31.161Z"
   },
   {
    "duration": 12,
    "start_time": "2025-01-28T02:43:31.409Z"
   },
   {
    "duration": 19,
    "start_time": "2025-01-28T02:43:31.423Z"
   },
   {
    "duration": 31,
    "start_time": "2025-01-28T02:43:31.443Z"
   },
   {
    "duration": 35,
    "start_time": "2025-01-28T02:43:31.476Z"
   },
   {
    "duration": 111,
    "start_time": "2025-01-28T02:43:31.514Z"
   },
   {
    "duration": 173,
    "start_time": "2025-01-28T02:43:31.627Z"
   },
   {
    "duration": 32,
    "start_time": "2025-01-28T02:43:31.803Z"
   },
   {
    "duration": 14,
    "start_time": "2025-01-28T02:43:31.837Z"
   },
   {
    "duration": 3,
    "start_time": "2025-01-28T02:43:31.853Z"
   },
   {
    "duration": 78,
    "start_time": "2025-01-28T02:43:31.857Z"
   },
   {
    "duration": 42,
    "start_time": "2025-01-28T02:43:31.937Z"
   },
   {
    "duration": 154,
    "start_time": "2025-01-28T02:43:31.981Z"
   },
   {
    "duration": 20,
    "start_time": "2025-01-28T02:43:32.136Z"
   },
   {
    "duration": 5,
    "start_time": "2025-01-28T02:43:32.158Z"
   },
   {
    "duration": 12,
    "start_time": "2025-01-28T02:43:32.165Z"
   },
   {
    "duration": 173,
    "start_time": "2025-01-28T02:43:32.179Z"
   },
   {
    "duration": 13,
    "start_time": "2025-01-28T02:43:32.354Z"
   },
   {
    "duration": 80,
    "start_time": "2025-01-28T02:43:32.369Z"
   },
   {
    "duration": 6,
    "start_time": "2025-01-28T02:43:32.451Z"
   },
   {
    "duration": 125,
    "start_time": "2025-01-28T02:45:43.919Z"
   },
   {
    "duration": 129,
    "start_time": "2025-01-28T02:45:55.106Z"
   },
   {
    "duration": 6,
    "start_time": "2025-01-28T02:48:00.810Z"
   },
   {
    "duration": 5,
    "start_time": "2025-01-28T03:22:56.736Z"
   },
   {
    "duration": 5,
    "start_time": "2025-01-28T03:23:46.275Z"
   },
   {
    "duration": 3,
    "start_time": "2025-01-28T03:23:53.422Z"
   },
   {
    "duration": 6,
    "start_time": "2025-01-28T03:24:45.297Z"
   },
   {
    "duration": 6,
    "start_time": "2025-01-28T03:27:25.411Z"
   },
   {
    "duration": 7,
    "start_time": "2025-01-28T03:28:56.625Z"
   },
   {
    "duration": 799,
    "start_time": "2025-01-28T03:29:42.201Z"
   },
   {
    "duration": 338,
    "start_time": "2025-01-28T03:29:43.002Z"
   },
   {
    "duration": 228,
    "start_time": "2025-01-28T03:29:43.342Z"
   },
   {
    "duration": 12,
    "start_time": "2025-01-28T03:29:43.572Z"
   },
   {
    "duration": 35,
    "start_time": "2025-01-28T03:29:43.585Z"
   },
   {
    "duration": 32,
    "start_time": "2025-01-28T03:29:43.622Z"
   },
   {
    "duration": 11,
    "start_time": "2025-01-28T03:29:43.655Z"
   },
   {
    "duration": 112,
    "start_time": "2025-01-28T03:29:43.668Z"
   },
   {
    "duration": 167,
    "start_time": "2025-01-28T03:29:43.781Z"
   },
   {
    "duration": 33,
    "start_time": "2025-01-28T03:29:43.952Z"
   },
   {
    "duration": 27,
    "start_time": "2025-01-28T03:29:43.987Z"
   },
   {
    "duration": 5,
    "start_time": "2025-01-28T03:29:44.016Z"
   },
   {
    "duration": 54,
    "start_time": "2025-01-28T03:29:44.022Z"
   },
   {
    "duration": 65,
    "start_time": "2025-01-28T03:29:44.078Z"
   },
   {
    "duration": 147,
    "start_time": "2025-01-28T03:29:44.146Z"
   },
   {
    "duration": 24,
    "start_time": "2025-01-28T03:29:44.294Z"
   },
   {
    "duration": 7,
    "start_time": "2025-01-28T03:29:44.320Z"
   },
   {
    "duration": 13,
    "start_time": "2025-01-28T03:29:44.328Z"
   },
   {
    "duration": 177,
    "start_time": "2025-01-28T03:29:44.343Z"
   },
   {
    "duration": 14,
    "start_time": "2025-01-28T03:29:44.522Z"
   },
   {
    "duration": 5,
    "start_time": "2025-01-28T03:29:44.537Z"
   },
   {
    "duration": 4,
    "start_time": "2025-01-28T03:29:44.543Z"
   },
   {
    "duration": 4,
    "start_time": "2025-01-28T03:29:44.548Z"
   },
   {
    "duration": 0,
    "start_time": "2025-01-28T03:29:44.554Z"
   },
   {
    "duration": 0,
    "start_time": "2025-01-28T03:29:44.555Z"
   },
   {
    "duration": 0,
    "start_time": "2025-01-28T03:29:44.556Z"
   },
   {
    "duration": 0,
    "start_time": "2025-01-28T03:29:44.557Z"
   },
   {
    "duration": 266,
    "start_time": "2025-01-28T03:47:50.943Z"
   },
   {
    "duration": 10,
    "start_time": "2025-01-28T03:48:34.727Z"
   },
   {
    "duration": 844,
    "start_time": "2025-01-28T03:51:56.652Z"
   },
   {
    "duration": 355,
    "start_time": "2025-01-28T03:51:57.498Z"
   },
   {
    "duration": 224,
    "start_time": "2025-01-28T03:51:57.855Z"
   },
   {
    "duration": 10,
    "start_time": "2025-01-28T03:51:58.081Z"
   },
   {
    "duration": 18,
    "start_time": "2025-01-28T03:51:58.104Z"
   },
   {
    "duration": 31,
    "start_time": "2025-01-28T03:51:58.123Z"
   },
   {
    "duration": 11,
    "start_time": "2025-01-28T03:51:58.155Z"
   },
   {
    "duration": 117,
    "start_time": "2025-01-28T03:51:58.167Z"
   },
   {
    "duration": 169,
    "start_time": "2025-01-28T03:51:58.286Z"
   },
   {
    "duration": 33,
    "start_time": "2025-01-28T03:51:58.458Z"
   },
   {
    "duration": 24,
    "start_time": "2025-01-28T03:51:58.493Z"
   },
   {
    "duration": 3,
    "start_time": "2025-01-28T03:51:58.518Z"
   },
   {
    "duration": 46,
    "start_time": "2025-01-28T03:51:58.524Z"
   },
   {
    "duration": 160,
    "start_time": "2025-01-28T03:51:58.573Z"
   },
   {
    "duration": 28,
    "start_time": "2025-01-28T03:51:58.735Z"
   },
   {
    "duration": 7,
    "start_time": "2025-01-28T03:51:58.765Z"
   },
   {
    "duration": 32,
    "start_time": "2025-01-28T03:51:58.774Z"
   },
   {
    "duration": 158,
    "start_time": "2025-01-28T03:51:58.809Z"
   },
   {
    "duration": 14,
    "start_time": "2025-01-28T03:51:58.969Z"
   },
   {
    "duration": 21,
    "start_time": "2025-01-28T03:51:58.984Z"
   },
   {
    "duration": 4,
    "start_time": "2025-01-28T03:51:59.007Z"
   },
   {
    "duration": 58,
    "start_time": "2025-01-28T03:51:59.012Z"
   },
   {
    "duration": 5,
    "start_time": "2025-01-28T03:51:59.073Z"
   },
   {
    "duration": 225,
    "start_time": "2025-01-28T03:51:59.104Z"
   },
   {
    "duration": 0,
    "start_time": "2025-01-28T03:51:59.331Z"
   },
   {
    "duration": 53,
    "start_time": "2025-01-28T04:00:22.439Z"
   },
   {
    "duration": 7,
    "start_time": "2025-01-28T04:07:34.233Z"
   },
   {
    "duration": 5,
    "start_time": "2025-01-28T04:10:30.799Z"
   },
   {
    "duration": 5,
    "start_time": "2025-01-28T04:31:13.948Z"
   },
   {
    "duration": 6,
    "start_time": "2025-01-28T04:33:08.935Z"
   },
   {
    "duration": 18,
    "start_time": "2025-01-28T04:35:02.459Z"
   },
   {
    "duration": 17,
    "start_time": "2025-01-28T04:35:45.367Z"
   },
   {
    "duration": 19,
    "start_time": "2025-01-28T04:36:42.311Z"
   },
   {
    "duration": 19,
    "start_time": "2025-01-28T04:37:16.013Z"
   },
   {
    "duration": 1064,
    "start_time": "2025-01-28T04:37:26.197Z"
   },
   {
    "duration": 0,
    "start_time": "2025-01-28T04:37:27.263Z"
   },
   {
    "duration": 0,
    "start_time": "2025-01-28T04:37:27.265Z"
   },
   {
    "duration": 0,
    "start_time": "2025-01-28T04:37:27.266Z"
   },
   {
    "duration": 0,
    "start_time": "2025-01-28T04:37:27.267Z"
   },
   {
    "duration": 0,
    "start_time": "2025-01-28T04:37:27.268Z"
   },
   {
    "duration": 0,
    "start_time": "2025-01-28T04:37:27.269Z"
   },
   {
    "duration": 0,
    "start_time": "2025-01-28T04:37:27.270Z"
   },
   {
    "duration": 0,
    "start_time": "2025-01-28T04:37:27.271Z"
   },
   {
    "duration": 0,
    "start_time": "2025-01-28T04:37:27.272Z"
   },
   {
    "duration": 0,
    "start_time": "2025-01-28T04:37:27.273Z"
   },
   {
    "duration": 0,
    "start_time": "2025-01-28T04:37:27.276Z"
   },
   {
    "duration": 0,
    "start_time": "2025-01-28T04:37:27.277Z"
   },
   {
    "duration": 0,
    "start_time": "2025-01-28T04:37:27.305Z"
   },
   {
    "duration": 0,
    "start_time": "2025-01-28T04:37:27.306Z"
   },
   {
    "duration": 0,
    "start_time": "2025-01-28T04:37:27.308Z"
   },
   {
    "duration": 0,
    "start_time": "2025-01-28T04:37:27.309Z"
   },
   {
    "duration": 0,
    "start_time": "2025-01-28T04:37:27.310Z"
   },
   {
    "duration": 0,
    "start_time": "2025-01-28T04:37:27.312Z"
   },
   {
    "duration": 0,
    "start_time": "2025-01-28T04:37:27.314Z"
   },
   {
    "duration": 0,
    "start_time": "2025-01-28T04:37:27.315Z"
   },
   {
    "duration": 0,
    "start_time": "2025-01-28T04:37:27.317Z"
   },
   {
    "duration": 0,
    "start_time": "2025-01-28T04:37:27.318Z"
   },
   {
    "duration": 0,
    "start_time": "2025-01-28T04:37:27.320Z"
   },
   {
    "duration": 0,
    "start_time": "2025-01-28T04:37:27.321Z"
   },
   {
    "duration": 0,
    "start_time": "2025-01-28T04:37:27.322Z"
   },
   {
    "duration": 0,
    "start_time": "2025-01-28T04:37:27.324Z"
   },
   {
    "duration": 0,
    "start_time": "2025-01-28T04:37:27.325Z"
   },
   {
    "duration": 0,
    "start_time": "2025-01-28T04:37:27.326Z"
   },
   {
    "duration": 0,
    "start_time": "2025-01-28T04:37:27.328Z"
   },
   {
    "duration": 0,
    "start_time": "2025-01-28T04:37:27.330Z"
   },
   {
    "duration": 7,
    "start_time": "2025-01-28T04:40:03.911Z"
   },
   {
    "duration": 813,
    "start_time": "2025-01-28T04:40:14.174Z"
   },
   {
    "duration": 343,
    "start_time": "2025-01-28T04:40:14.989Z"
   },
   {
    "duration": 231,
    "start_time": "2025-01-28T04:40:15.333Z"
   },
   {
    "duration": 10,
    "start_time": "2025-01-28T04:40:15.566Z"
   },
   {
    "duration": 32,
    "start_time": "2025-01-28T04:40:15.578Z"
   },
   {
    "duration": 32,
    "start_time": "2025-01-28T04:40:15.612Z"
   },
   {
    "duration": 11,
    "start_time": "2025-01-28T04:40:15.645Z"
   },
   {
    "duration": 120,
    "start_time": "2025-01-28T04:40:15.658Z"
   },
   {
    "duration": 166,
    "start_time": "2025-01-28T04:40:15.781Z"
   },
   {
    "duration": 33,
    "start_time": "2025-01-28T04:40:15.949Z"
   },
   {
    "duration": 26,
    "start_time": "2025-01-28T04:40:15.984Z"
   },
   {
    "duration": 3,
    "start_time": "2025-01-28T04:40:16.012Z"
   },
   {
    "duration": 49,
    "start_time": "2025-01-28T04:40:16.017Z"
   },
   {
    "duration": 159,
    "start_time": "2025-01-28T04:40:16.069Z"
   },
   {
    "duration": 20,
    "start_time": "2025-01-28T04:40:16.230Z"
   },
   {
    "duration": 6,
    "start_time": "2025-01-28T04:40:16.252Z"
   },
   {
    "duration": 11,
    "start_time": "2025-01-28T04:40:16.260Z"
   },
   {
    "duration": 174,
    "start_time": "2025-01-28T04:40:16.272Z"
   },
   {
    "duration": 14,
    "start_time": "2025-01-28T04:40:16.448Z"
   },
   {
    "duration": 4,
    "start_time": "2025-01-28T04:40:16.464Z"
   },
   {
    "duration": 4,
    "start_time": "2025-01-28T04:40:16.470Z"
   },
   {
    "duration": 724,
    "start_time": "2025-01-28T04:40:16.476Z"
   },
   {
    "duration": 0,
    "start_time": "2025-01-28T04:40:17.205Z"
   },
   {
    "duration": 0,
    "start_time": "2025-01-28T04:40:17.206Z"
   },
   {
    "duration": 0,
    "start_time": "2025-01-28T04:40:17.207Z"
   },
   {
    "duration": 0,
    "start_time": "2025-01-28T04:40:17.209Z"
   },
   {
    "duration": 0,
    "start_time": "2025-01-28T04:40:17.211Z"
   },
   {
    "duration": 0,
    "start_time": "2025-01-28T04:40:17.212Z"
   },
   {
    "duration": 0,
    "start_time": "2025-01-28T04:40:17.213Z"
   },
   {
    "duration": 0,
    "start_time": "2025-01-28T04:40:17.214Z"
   },
   {
    "duration": 0,
    "start_time": "2025-01-28T04:40:17.216Z"
   },
   {
    "duration": 2557,
    "start_time": "2025-01-28T05:40:39.214Z"
   },
   {
    "duration": 412,
    "start_time": "2025-01-28T05:40:41.774Z"
   },
   {
    "duration": 235,
    "start_time": "2025-01-28T05:40:42.187Z"
   },
   {
    "duration": 11,
    "start_time": "2025-01-28T05:40:42.424Z"
   },
   {
    "duration": 35,
    "start_time": "2025-01-28T05:40:42.436Z"
   },
   {
    "duration": 32,
    "start_time": "2025-01-28T05:40:42.473Z"
   },
   {
    "duration": 11,
    "start_time": "2025-01-28T05:40:42.507Z"
   },
   {
    "duration": 118,
    "start_time": "2025-01-28T05:40:42.520Z"
   },
   {
    "duration": 176,
    "start_time": "2025-01-28T05:40:42.639Z"
   },
   {
    "duration": 33,
    "start_time": "2025-01-28T05:40:42.819Z"
   },
   {
    "duration": 27,
    "start_time": "2025-01-28T05:40:42.854Z"
   },
   {
    "duration": 3,
    "start_time": "2025-01-28T05:40:42.883Z"
   },
   {
    "duration": 53,
    "start_time": "2025-01-28T05:40:42.888Z"
   },
   {
    "duration": 168,
    "start_time": "2025-01-28T05:40:42.942Z"
   },
   {
    "duration": 21,
    "start_time": "2025-01-28T05:40:43.111Z"
   },
   {
    "duration": 7,
    "start_time": "2025-01-28T05:40:43.133Z"
   },
   {
    "duration": 32,
    "start_time": "2025-01-28T05:40:43.142Z"
   },
   {
    "duration": 152,
    "start_time": "2025-01-28T05:40:43.175Z"
   },
   {
    "duration": 15,
    "start_time": "2025-01-28T05:40:43.329Z"
   },
   {
    "duration": 4,
    "start_time": "2025-01-28T05:40:43.345Z"
   },
   {
    "duration": 4,
    "start_time": "2025-01-28T05:40:43.369Z"
   },
   {
    "duration": 688,
    "start_time": "2025-01-28T05:40:43.375Z"
   },
   {
    "duration": 0,
    "start_time": "2025-01-28T05:40:44.070Z"
   },
   {
    "duration": 0,
    "start_time": "2025-01-28T05:40:44.071Z"
   },
   {
    "duration": 0,
    "start_time": "2025-01-28T05:40:44.072Z"
   },
   {
    "duration": 0,
    "start_time": "2025-01-28T05:40:44.073Z"
   },
   {
    "duration": 0,
    "start_time": "2025-01-28T05:40:44.075Z"
   },
   {
    "duration": 0,
    "start_time": "2025-01-28T05:40:44.076Z"
   },
   {
    "duration": 0,
    "start_time": "2025-01-28T05:40:44.077Z"
   },
   {
    "duration": 0,
    "start_time": "2025-01-28T05:40:44.078Z"
   },
   {
    "duration": 0,
    "start_time": "2025-01-28T05:40:44.079Z"
   },
   {
    "duration": 17,
    "start_time": "2025-01-28T06:10:30.220Z"
   },
   {
    "duration": 17,
    "start_time": "2025-01-28T06:10:41.943Z"
   },
   {
    "duration": 17,
    "start_time": "2025-01-28T06:11:13.667Z"
   },
   {
    "duration": 6,
    "start_time": "2025-01-28T06:11:40.927Z"
   },
   {
    "duration": 5,
    "start_time": "2025-01-28T06:11:50.009Z"
   },
   {
    "duration": 19,
    "start_time": "2025-01-28T06:13:39.045Z"
   },
   {
    "duration": 10,
    "start_time": "2025-01-28T06:13:50.055Z"
   },
   {
    "duration": 20,
    "start_time": "2025-01-28T06:15:08.529Z"
   },
   {
    "duration": 18,
    "start_time": "2025-01-28T06:15:26.910Z"
   },
   {
    "duration": 19,
    "start_time": "2025-01-28T06:18:23.873Z"
   },
   {
    "duration": 35,
    "start_time": "2025-01-28T06:18:51.884Z"
   },
   {
    "duration": 7,
    "start_time": "2025-01-28T06:20:27.090Z"
   },
   {
    "duration": 54,
    "start_time": "2025-01-28T06:29:52.321Z"
   },
   {
    "duration": 6,
    "start_time": "2025-01-28T06:33:34.890Z"
   },
   {
    "duration": 854,
    "start_time": "2025-01-28T06:34:27.982Z"
   },
   {
    "duration": 346,
    "start_time": "2025-01-28T06:34:28.838Z"
   },
   {
    "duration": 228,
    "start_time": "2025-01-28T06:34:29.186Z"
   },
   {
    "duration": 10,
    "start_time": "2025-01-28T06:34:29.417Z"
   },
   {
    "duration": 18,
    "start_time": "2025-01-28T06:34:29.428Z"
   },
   {
    "duration": 51,
    "start_time": "2025-01-28T06:34:29.448Z"
   },
   {
    "duration": 12,
    "start_time": "2025-01-28T06:34:29.500Z"
   },
   {
    "duration": 108,
    "start_time": "2025-01-28T06:34:29.513Z"
   },
   {
    "duration": 176,
    "start_time": "2025-01-28T06:34:29.623Z"
   },
   {
    "duration": 33,
    "start_time": "2025-01-28T06:34:29.803Z"
   },
   {
    "duration": 15,
    "start_time": "2025-01-28T06:34:29.837Z"
   },
   {
    "duration": 17,
    "start_time": "2025-01-28T06:34:29.854Z"
   },
   {
    "duration": 49,
    "start_time": "2025-01-28T06:34:29.873Z"
   },
   {
    "duration": 148,
    "start_time": "2025-01-28T06:34:29.924Z"
   },
   {
    "duration": 20,
    "start_time": "2025-01-28T06:34:30.074Z"
   },
   {
    "duration": 7,
    "start_time": "2025-01-28T06:34:30.096Z"
   },
   {
    "duration": 11,
    "start_time": "2025-01-28T06:34:30.105Z"
   },
   {
    "duration": 175,
    "start_time": "2025-01-28T06:34:30.117Z"
   },
   {
    "duration": 12,
    "start_time": "2025-01-28T06:34:30.294Z"
   },
   {
    "duration": 4,
    "start_time": "2025-01-28T06:34:30.308Z"
   },
   {
    "duration": 3,
    "start_time": "2025-01-28T06:34:30.315Z"
   },
   {
    "duration": 6,
    "start_time": "2025-01-28T06:34:30.320Z"
   },
   {
    "duration": 86,
    "start_time": "2025-01-28T06:34:30.327Z"
   },
   {
    "duration": 631,
    "start_time": "2025-01-28T06:34:30.414Z"
   },
   {
    "duration": 0,
    "start_time": "2025-01-28T06:34:31.047Z"
   },
   {
    "duration": 0,
    "start_time": "2025-01-28T06:34:31.048Z"
   },
   {
    "duration": 0,
    "start_time": "2025-01-28T06:34:31.049Z"
   },
   {
    "duration": 0,
    "start_time": "2025-01-28T06:34:31.050Z"
   },
   {
    "duration": 0,
    "start_time": "2025-01-28T06:34:31.051Z"
   },
   {
    "duration": 0,
    "start_time": "2025-01-28T06:34:31.052Z"
   },
   {
    "duration": 0,
    "start_time": "2025-01-28T06:34:31.054Z"
   },
   {
    "duration": 0,
    "start_time": "2025-01-28T06:34:31.055Z"
   },
   {
    "duration": 5,
    "start_time": "2025-01-28T07:05:01.508Z"
   },
   {
    "duration": 4,
    "start_time": "2025-01-28T07:05:54.349Z"
   },
   {
    "duration": 5,
    "start_time": "2025-01-28T07:07:26.017Z"
   },
   {
    "duration": 4,
    "start_time": "2025-01-28T07:08:32.646Z"
   },
   {
    "duration": 812,
    "start_time": "2025-01-28T07:15:08.597Z"
   },
   {
    "duration": 342,
    "start_time": "2025-01-28T07:15:09.411Z"
   },
   {
    "duration": 231,
    "start_time": "2025-01-28T07:15:09.754Z"
   },
   {
    "duration": 11,
    "start_time": "2025-01-28T07:15:09.987Z"
   },
   {
    "duration": 19,
    "start_time": "2025-01-28T07:15:10.001Z"
   },
   {
    "duration": 49,
    "start_time": "2025-01-28T07:15:10.023Z"
   },
   {
    "duration": 11,
    "start_time": "2025-01-28T07:15:10.074Z"
   },
   {
    "duration": 109,
    "start_time": "2025-01-28T07:15:10.086Z"
   },
   {
    "duration": 179,
    "start_time": "2025-01-28T07:15:10.197Z"
   },
   {
    "duration": 33,
    "start_time": "2025-01-28T07:15:10.378Z"
   },
   {
    "duration": 15,
    "start_time": "2025-01-28T07:15:10.412Z"
   },
   {
    "duration": 3,
    "start_time": "2025-01-28T07:15:10.429Z"
   },
   {
    "duration": 71,
    "start_time": "2025-01-28T07:15:10.434Z"
   },
   {
    "duration": 153,
    "start_time": "2025-01-28T07:15:10.510Z"
   },
   {
    "duration": 19,
    "start_time": "2025-01-28T07:15:10.669Z"
   },
   {
    "duration": 6,
    "start_time": "2025-01-28T07:15:10.690Z"
   },
   {
    "duration": 11,
    "start_time": "2025-01-28T07:15:10.698Z"
   },
   {
    "duration": 169,
    "start_time": "2025-01-28T07:15:10.710Z"
   },
   {
    "duration": 14,
    "start_time": "2025-01-28T07:15:10.881Z"
   },
   {
    "duration": 5,
    "start_time": "2025-01-28T07:15:10.896Z"
   },
   {
    "duration": 4,
    "start_time": "2025-01-28T07:15:10.903Z"
   },
   {
    "duration": 6,
    "start_time": "2025-01-28T07:15:10.908Z"
   },
   {
    "duration": 85,
    "start_time": "2025-01-28T07:15:10.916Z"
   },
   {
    "duration": 622,
    "start_time": "2025-01-28T07:15:11.003Z"
   },
   {
    "duration": 0,
    "start_time": "2025-01-28T07:15:11.626Z"
   },
   {
    "duration": 0,
    "start_time": "2025-01-28T07:15:11.628Z"
   },
   {
    "duration": 0,
    "start_time": "2025-01-28T07:15:11.629Z"
   },
   {
    "duration": 0,
    "start_time": "2025-01-28T07:15:11.630Z"
   },
   {
    "duration": 0,
    "start_time": "2025-01-28T07:15:11.632Z"
   },
   {
    "duration": 0,
    "start_time": "2025-01-28T07:15:11.633Z"
   },
   {
    "duration": 0,
    "start_time": "2025-01-28T07:15:11.634Z"
   },
   {
    "duration": 0,
    "start_time": "2025-01-28T07:15:11.636Z"
   },
   {
    "duration": 19,
    "start_time": "2025-01-28T07:19:15.895Z"
   },
   {
    "duration": 19,
    "start_time": "2025-01-28T07:19:29.835Z"
   },
   {
    "duration": 21,
    "start_time": "2025-01-28T07:20:45.091Z"
   },
   {
    "duration": 5,
    "start_time": "2025-01-28T07:22:44.455Z"
   },
   {
    "duration": 48,
    "start_time": "2025-01-28T07:23:42.554Z"
   },
   {
    "duration": 7,
    "start_time": "2025-01-28T07:25:25.364Z"
   },
   {
    "duration": 831,
    "start_time": "2025-01-28T07:25:47.300Z"
   },
   {
    "duration": 352,
    "start_time": "2025-01-28T07:25:48.133Z"
   },
   {
    "duration": 235,
    "start_time": "2025-01-28T07:25:48.487Z"
   },
   {
    "duration": 10,
    "start_time": "2025-01-28T07:25:48.724Z"
   },
   {
    "duration": 35,
    "start_time": "2025-01-28T07:25:48.737Z"
   },
   {
    "duration": 34,
    "start_time": "2025-01-28T07:25:48.774Z"
   },
   {
    "duration": 11,
    "start_time": "2025-01-28T07:25:48.810Z"
   },
   {
    "duration": 118,
    "start_time": "2025-01-28T07:25:48.822Z"
   },
   {
    "duration": 183,
    "start_time": "2025-01-28T07:25:48.942Z"
   },
   {
    "duration": 47,
    "start_time": "2025-01-28T07:25:49.127Z"
   },
   {
    "duration": 15,
    "start_time": "2025-01-28T07:25:49.176Z"
   },
   {
    "duration": 3,
    "start_time": "2025-01-28T07:25:49.192Z"
   },
   {
    "duration": 73,
    "start_time": "2025-01-28T07:25:49.198Z"
   },
   {
    "duration": 147,
    "start_time": "2025-01-28T07:25:49.274Z"
   },
   {
    "duration": 20,
    "start_time": "2025-01-28T07:25:49.423Z"
   },
   {
    "duration": 6,
    "start_time": "2025-01-28T07:25:49.445Z"
   },
   {
    "duration": 12,
    "start_time": "2025-01-28T07:25:49.469Z"
   },
   {
    "duration": 159,
    "start_time": "2025-01-28T07:25:49.482Z"
   },
   {
    "duration": 13,
    "start_time": "2025-01-28T07:25:49.644Z"
   },
   {
    "duration": 4,
    "start_time": "2025-01-28T07:25:49.670Z"
   },
   {
    "duration": 8,
    "start_time": "2025-01-28T07:25:49.676Z"
   },
   {
    "duration": 7,
    "start_time": "2025-01-28T07:25:49.685Z"
   },
   {
    "duration": 299,
    "start_time": "2025-01-28T07:25:49.694Z"
   },
   {
    "duration": 2484,
    "start_time": "2025-01-28T08:28:49.258Z"
   },
   {
    "duration": 418,
    "start_time": "2025-01-28T08:28:51.745Z"
   },
   {
    "duration": 227,
    "start_time": "2025-01-28T08:28:52.165Z"
   },
   {
    "duration": 19,
    "start_time": "2025-01-28T08:28:52.393Z"
   },
   {
    "duration": 19,
    "start_time": "2025-01-28T08:28:52.415Z"
   },
   {
    "duration": 31,
    "start_time": "2025-01-28T08:28:52.435Z"
   },
   {
    "duration": 11,
    "start_time": "2025-01-28T08:28:52.468Z"
   },
   {
    "duration": 128,
    "start_time": "2025-01-28T08:28:52.481Z"
   },
   {
    "duration": 164,
    "start_time": "2025-01-28T08:28:52.611Z"
   },
   {
    "duration": 41,
    "start_time": "2025-01-28T08:28:52.777Z"
   },
   {
    "duration": 14,
    "start_time": "2025-01-28T08:28:52.820Z"
   },
   {
    "duration": 48,
    "start_time": "2025-01-28T08:28:52.835Z"
   },
   {
    "duration": 153,
    "start_time": "2025-01-28T08:28:52.885Z"
   },
   {
    "duration": 20,
    "start_time": "2025-01-28T08:28:53.040Z"
   },
   {
    "duration": 7,
    "start_time": "2025-01-28T08:28:53.061Z"
   },
   {
    "duration": 39,
    "start_time": "2025-01-28T08:28:53.070Z"
   },
   {
    "duration": 152,
    "start_time": "2025-01-28T08:28:53.111Z"
   },
   {
    "duration": 13,
    "start_time": "2025-01-28T08:28:53.265Z"
   },
   {
    "duration": 4,
    "start_time": "2025-01-28T08:28:53.280Z"
   },
   {
    "duration": 24,
    "start_time": "2025-01-28T08:28:53.286Z"
   },
   {
    "duration": 802,
    "start_time": "2025-01-28T08:35:33.189Z"
   },
   {
    "duration": 339,
    "start_time": "2025-01-28T08:35:33.994Z"
   },
   {
    "duration": 229,
    "start_time": "2025-01-28T08:35:34.335Z"
   },
   {
    "duration": 10,
    "start_time": "2025-01-28T08:35:34.568Z"
   },
   {
    "duration": 34,
    "start_time": "2025-01-28T08:35:34.580Z"
   },
   {
    "duration": 31,
    "start_time": "2025-01-28T08:35:34.616Z"
   },
   {
    "duration": 11,
    "start_time": "2025-01-28T08:35:34.648Z"
   },
   {
    "duration": 116,
    "start_time": "2025-01-28T08:35:34.660Z"
   },
   {
    "duration": 170,
    "start_time": "2025-01-28T08:35:34.778Z"
   },
   {
    "duration": 32,
    "start_time": "2025-01-28T08:35:34.951Z"
   },
   {
    "duration": 28,
    "start_time": "2025-01-28T08:35:34.985Z"
   },
   {
    "duration": 53,
    "start_time": "2025-01-28T08:35:35.014Z"
   },
   {
    "duration": 148,
    "start_time": "2025-01-28T08:35:35.069Z"
   },
   {
    "duration": 20,
    "start_time": "2025-01-28T08:35:35.219Z"
   },
   {
    "duration": 7,
    "start_time": "2025-01-28T08:35:35.240Z"
   },
   {
    "duration": 11,
    "start_time": "2025-01-28T08:35:35.248Z"
   },
   {
    "duration": 185,
    "start_time": "2025-01-28T08:35:35.260Z"
   },
   {
    "duration": 13,
    "start_time": "2025-01-28T08:35:35.448Z"
   },
   {
    "duration": 5,
    "start_time": "2025-01-28T08:35:35.463Z"
   },
   {
    "duration": 8,
    "start_time": "2025-01-28T08:35:35.470Z"
   },
   {
    "duration": 798,
    "start_time": "2025-01-28T08:38:19.105Z"
   },
   {
    "duration": 334,
    "start_time": "2025-01-28T08:38:19.908Z"
   },
   {
    "duration": 232,
    "start_time": "2025-01-28T08:38:20.244Z"
   },
   {
    "duration": 10,
    "start_time": "2025-01-28T08:38:20.479Z"
   },
   {
    "duration": 31,
    "start_time": "2025-01-28T08:38:20.490Z"
   },
   {
    "duration": 31,
    "start_time": "2025-01-28T08:38:20.522Z"
   },
   {
    "duration": 11,
    "start_time": "2025-01-28T08:38:20.554Z"
   },
   {
    "duration": 121,
    "start_time": "2025-01-28T08:38:20.566Z"
   },
   {
    "duration": 164,
    "start_time": "2025-01-28T08:38:20.688Z"
   },
   {
    "duration": 33,
    "start_time": "2025-01-28T08:38:20.854Z"
   },
   {
    "duration": 27,
    "start_time": "2025-01-28T08:38:20.889Z"
   },
   {
    "duration": 52,
    "start_time": "2025-01-28T08:38:20.918Z"
   },
   {
    "duration": 150,
    "start_time": "2025-01-28T08:38:20.972Z"
   },
   {
    "duration": 21,
    "start_time": "2025-01-28T08:38:21.124Z"
   },
   {
    "duration": 7,
    "start_time": "2025-01-28T08:38:21.147Z"
   },
   {
    "duration": 11,
    "start_time": "2025-01-28T08:38:21.155Z"
   },
   {
    "duration": 170,
    "start_time": "2025-01-28T08:38:21.168Z"
   },
   {
    "duration": 13,
    "start_time": "2025-01-28T08:38:21.339Z"
   },
   {
    "duration": 4,
    "start_time": "2025-01-28T08:38:21.354Z"
   },
   {
    "duration": 8,
    "start_time": "2025-01-28T08:38:21.360Z"
   },
   {
    "duration": 11,
    "start_time": "2025-01-29T01:53:15.176Z"
   },
   {
    "duration": 2474,
    "start_time": "2025-02-27T07:02:49.878Z"
   },
   {
    "duration": 416,
    "start_time": "2025-02-27T07:02:52.354Z"
   },
   {
    "duration": 227,
    "start_time": "2025-02-27T07:02:52.771Z"
   },
   {
    "duration": 9,
    "start_time": "2025-02-27T07:02:53.001Z"
   },
   {
    "duration": 32,
    "start_time": "2025-02-27T07:02:53.012Z"
   },
   {
    "duration": 31,
    "start_time": "2025-02-27T07:02:53.045Z"
   },
   {
    "duration": 11,
    "start_time": "2025-02-27T07:02:53.077Z"
   },
   {
    "duration": 117,
    "start_time": "2025-02-27T07:02:53.091Z"
   },
   {
    "duration": 163,
    "start_time": "2025-02-27T07:02:53.210Z"
   },
   {
    "duration": 32,
    "start_time": "2025-02-27T07:02:53.376Z"
   },
   {
    "duration": 27,
    "start_time": "2025-02-27T07:02:53.410Z"
   },
   {
    "duration": 48,
    "start_time": "2025-02-27T07:02:53.439Z"
   },
   {
    "duration": 148,
    "start_time": "2025-02-27T07:02:53.489Z"
   },
   {
    "duration": 22,
    "start_time": "2025-02-27T07:02:53.639Z"
   },
   {
    "duration": 7,
    "start_time": "2025-02-27T07:02:53.664Z"
   },
   {
    "duration": 10,
    "start_time": "2025-02-27T07:02:53.673Z"
   },
   {
    "duration": 169,
    "start_time": "2025-02-27T07:02:53.685Z"
   },
   {
    "duration": 12,
    "start_time": "2025-02-27T07:02:53.856Z"
   },
   {
    "duration": 5,
    "start_time": "2025-02-27T07:02:53.869Z"
   },
   {
    "duration": 7,
    "start_time": "2025-02-27T07:02:53.876Z"
   }
  ],
  "kernelspec": {
   "display_name": "Python 3",
   "language": "python",
   "name": "python3"
  },
  "language_info": {
   "codemirror_mode": {
    "name": "ipython",
    "version": 3
   },
   "file_extension": ".py",
   "mimetype": "text/x-python",
   "name": "python",
   "nbconvert_exporter": "python",
   "pygments_lexer": "ipython3",
   "version": "3.12.4"
  },
  "toc": {
   "base_numbering": 1,
   "nav_menu": {},
   "number_sections": true,
   "sideBar": true,
   "skip_h1_title": true,
   "title_cell": "Table of Contents",
   "title_sidebar": "Contents",
   "toc_cell": false,
   "toc_position": {},
   "toc_section_display": true,
   "toc_window_display": false
  }
 },
 "nbformat": 4,
 "nbformat_minor": 2
}
